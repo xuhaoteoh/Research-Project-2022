{
 "cells": [
  {
   "cell_type": "markdown",
   "id": "6883cbba",
   "metadata": {},
   "source": [
    "# EDA"
   ]
  },
  {
   "cell_type": "code",
   "execution_count": 1,
   "id": "104a54bc",
   "metadata": {
    "ExecuteTime": {
     "end_time": "2022-06-16T15:33:10.106719Z",
     "start_time": "2022-06-16T15:33:07.922455Z"
    }
   },
   "outputs": [],
   "source": [
    "#import the useful libraries.\n",
    "import numpy as np\n",
    "import pandas as pd\n",
    "import seaborn as sns\n",
    "import matplotlib.pyplot as plt\n",
    "\n",
    "%matplotlib inline"
   ]
  },
  {
   "cell_type": "code",
   "execution_count": 2,
   "id": "39800752",
   "metadata": {
    "ExecuteTime": {
     "end_time": "2022-06-16T15:33:10.660409Z",
     "start_time": "2022-06-16T15:33:10.510673Z"
    }
   },
   "outputs": [],
   "source": [
    "# Read the file in data \n",
    "normal = pd.read_csv(\"New Normal.csv\")\n",
    "hyperchromasia = pd.read_csv(\"Hyperchromasia.csv\")\n",
    "abnormalshape = pd.read_csv(\"Abnormal Shape.csv\")"
   ]
  },
  {
   "cell_type": "markdown",
   "id": "7fc6c935",
   "metadata": {},
   "source": [
    "## Check if data is properly loaded or not"
   ]
  },
  {
   "cell_type": "code",
   "execution_count": 3,
   "id": "ed305a5c",
   "metadata": {
    "ExecuteTime": {
     "end_time": "2022-06-16T15:33:13.516790Z",
     "start_time": "2022-06-16T15:33:13.484876Z"
    }
   },
   "outputs": [
    {
     "data": {
      "text/html": [
       "<div>\n",
       "<style scoped>\n",
       "    .dataframe tbody tr th:only-of-type {\n",
       "        vertical-align: middle;\n",
       "    }\n",
       "\n",
       "    .dataframe tbody tr th {\n",
       "        vertical-align: top;\n",
       "    }\n",
       "\n",
       "    .dataframe thead th {\n",
       "        text-align: right;\n",
       "    }\n",
       "</style>\n",
       "<table border=\"1\" class=\"dataframe\">\n",
       "  <thead>\n",
       "    <tr style=\"text-align: right;\">\n",
       "      <th></th>\n",
       "      <th>area</th>\n",
       "      <th>perimeter</th>\n",
       "      <th>eccentricity</th>\n",
       "      <th>mean_intensity</th>\n",
       "      <th>roundness_circularity</th>\n",
       "    </tr>\n",
       "  </thead>\n",
       "  <tbody>\n",
       "    <tr>\n",
       "      <th>0</th>\n",
       "      <td>4923</td>\n",
       "      <td>278.208153</td>\n",
       "      <td>0.836405</td>\n",
       "      <td>130.994516</td>\n",
       "      <td>0.799282</td>\n",
       "    </tr>\n",
       "    <tr>\n",
       "      <th>1</th>\n",
       "      <td>4810</td>\n",
       "      <td>290.764502</td>\n",
       "      <td>0.641405</td>\n",
       "      <td>137.652807</td>\n",
       "      <td>0.714944</td>\n",
       "    </tr>\n",
       "    <tr>\n",
       "      <th>2</th>\n",
       "      <td>4276</td>\n",
       "      <td>244.793939</td>\n",
       "      <td>0.598323</td>\n",
       "      <td>140.647568</td>\n",
       "      <td>0.896698</td>\n",
       "    </tr>\n",
       "  </tbody>\n",
       "</table>\n",
       "</div>"
      ],
      "text/plain": [
       "   area   perimeter  eccentricity  mean_intensity  roundness_circularity\n",
       "0  4923  278.208153      0.836405      130.994516               0.799282\n",
       "1  4810  290.764502      0.641405      137.652807               0.714944\n",
       "2  4276  244.793939      0.598323      140.647568               0.896698"
      ]
     },
     "execution_count": 3,
     "metadata": {},
     "output_type": "execute_result"
    }
   ],
   "source": [
    "normal.head(3)"
   ]
  },
  {
   "cell_type": "code",
   "execution_count": 4,
   "id": "8115e6bb",
   "metadata": {
    "ExecuteTime": {
     "end_time": "2022-06-16T15:33:13.717975Z",
     "start_time": "2022-06-16T15:33:13.700030Z"
    }
   },
   "outputs": [
    {
     "data": {
      "text/html": [
       "<div>\n",
       "<style scoped>\n",
       "    .dataframe tbody tr th:only-of-type {\n",
       "        vertical-align: middle;\n",
       "    }\n",
       "\n",
       "    .dataframe tbody tr th {\n",
       "        vertical-align: top;\n",
       "    }\n",
       "\n",
       "    .dataframe thead th {\n",
       "        text-align: right;\n",
       "    }\n",
       "</style>\n",
       "<table border=\"1\" class=\"dataframe\">\n",
       "  <thead>\n",
       "    <tr style=\"text-align: right;\">\n",
       "      <th></th>\n",
       "      <th>area</th>\n",
       "      <th>perimeter</th>\n",
       "      <th>eccentricity</th>\n",
       "      <th>mean_intensity</th>\n",
       "      <th>roundness_circularity</th>\n",
       "    </tr>\n",
       "  </thead>\n",
       "  <tbody>\n",
       "    <tr>\n",
       "      <th>0</th>\n",
       "      <td>121</td>\n",
       "      <td>38.627417</td>\n",
       "      <td>0.452998</td>\n",
       "      <td>84.239669</td>\n",
       "      <td>1.019070</td>\n",
       "    </tr>\n",
       "    <tr>\n",
       "      <th>1</th>\n",
       "      <td>383</td>\n",
       "      <td>72.526912</td>\n",
       "      <td>0.706644</td>\n",
       "      <td>63.663185</td>\n",
       "      <td>0.914977</td>\n",
       "    </tr>\n",
       "    <tr>\n",
       "      <th>2</th>\n",
       "      <td>579</td>\n",
       "      <td>95.355339</td>\n",
       "      <td>0.849932</td>\n",
       "      <td>70.789292</td>\n",
       "      <td>0.800200</td>\n",
       "    </tr>\n",
       "  </tbody>\n",
       "</table>\n",
       "</div>"
      ],
      "text/plain": [
       "   area  perimeter  eccentricity  mean_intensity  roundness_circularity\n",
       "0   121  38.627417      0.452998       84.239669               1.019070\n",
       "1   383  72.526912      0.706644       63.663185               0.914977\n",
       "2   579  95.355339      0.849932       70.789292               0.800200"
      ]
     },
     "execution_count": 4,
     "metadata": {},
     "output_type": "execute_result"
    }
   ],
   "source": [
    "hyperchromasia.head(3)"
   ]
  },
  {
   "cell_type": "code",
   "execution_count": 5,
   "id": "3bb6f298",
   "metadata": {
    "ExecuteTime": {
     "end_time": "2022-06-16T15:33:14.147566Z",
     "start_time": "2022-06-16T15:33:14.127584Z"
    }
   },
   "outputs": [
    {
     "data": {
      "text/html": [
       "<div>\n",
       "<style scoped>\n",
       "    .dataframe tbody tr th:only-of-type {\n",
       "        vertical-align: middle;\n",
       "    }\n",
       "\n",
       "    .dataframe tbody tr th {\n",
       "        vertical-align: top;\n",
       "    }\n",
       "\n",
       "    .dataframe thead th {\n",
       "        text-align: right;\n",
       "    }\n",
       "</style>\n",
       "<table border=\"1\" class=\"dataframe\">\n",
       "  <thead>\n",
       "    <tr style=\"text-align: right;\">\n",
       "      <th></th>\n",
       "      <th>area</th>\n",
       "      <th>perimeter</th>\n",
       "      <th>eccentricity</th>\n",
       "      <th>mean_intensity</th>\n",
       "      <th>roundness_circularity</th>\n",
       "    </tr>\n",
       "  </thead>\n",
       "  <tbody>\n",
       "    <tr>\n",
       "      <th>0</th>\n",
       "      <td>3124</td>\n",
       "      <td>269.178716</td>\n",
       "      <td>0.887236</td>\n",
       "      <td>57.240397</td>\n",
       "      <td>0.541801</td>\n",
       "    </tr>\n",
       "    <tr>\n",
       "      <th>1</th>\n",
       "      <td>1904</td>\n",
       "      <td>202.693434</td>\n",
       "      <td>0.781381</td>\n",
       "      <td>77.886555</td>\n",
       "      <td>0.582368</td>\n",
       "    </tr>\n",
       "    <tr>\n",
       "      <th>2</th>\n",
       "      <td>594</td>\n",
       "      <td>91.597980</td>\n",
       "      <td>0.363010</td>\n",
       "      <td>75.843434</td>\n",
       "      <td>0.889661</td>\n",
       "    </tr>\n",
       "  </tbody>\n",
       "</table>\n",
       "</div>"
      ],
      "text/plain": [
       "   area   perimeter  eccentricity  mean_intensity  roundness_circularity\n",
       "0  3124  269.178716      0.887236       57.240397               0.541801\n",
       "1  1904  202.693434      0.781381       77.886555               0.582368\n",
       "2   594   91.597980      0.363010       75.843434               0.889661"
      ]
     },
     "execution_count": 5,
     "metadata": {},
     "output_type": "execute_result"
    }
   ],
   "source": [
    "abnormalshape.head(3)"
   ]
  },
  {
   "cell_type": "markdown",
   "id": "0fd339de",
   "metadata": {},
   "source": [
    "## Check the shape of dataframes"
   ]
  },
  {
   "cell_type": "code",
   "execution_count": 6,
   "id": "58963033",
   "metadata": {
    "ExecuteTime": {
     "end_time": "2022-06-16T15:33:15.807987Z",
     "start_time": "2022-06-16T15:33:15.795022Z"
    }
   },
   "outputs": [
    {
     "name": "stdout",
     "output_type": "stream",
     "text": [
      "Shape of Normal = (1157, 5)\n",
      "Shape of Hyperchromasia = (1727, 5)\n",
      "Shape of Abnormal Shape = (2897, 5)\n"
     ]
    }
   ],
   "source": [
    "print(\"Shape of Normal =\",normal.shape)\n",
    "print(\"Shape of Hyperchromasia =\",hyperchromasia.shape)\n",
    "print(\"Shape of Abnormal Shape =\",abnormalshape.shape)"
   ]
  },
  {
   "cell_type": "markdown",
   "id": "cd8e7ad6",
   "metadata": {},
   "source": [
    "## Check for missing values"
   ]
  },
  {
   "cell_type": "code",
   "execution_count": 7,
   "id": "97398b42",
   "metadata": {
    "ExecuteTime": {
     "end_time": "2022-06-16T15:33:17.113812Z",
     "start_time": "2022-06-16T15:33:17.105833Z"
    }
   },
   "outputs": [
    {
     "name": "stdout",
     "output_type": "stream",
     "text": [
      "Missing values for Normal:\n"
     ]
    },
    {
     "data": {
      "text/plain": [
       "area                     0\n",
       "perimeter                0\n",
       "eccentricity             0\n",
       "mean_intensity           0\n",
       "roundness_circularity    0\n",
       "dtype: int64"
      ]
     },
     "execution_count": 7,
     "metadata": {},
     "output_type": "execute_result"
    }
   ],
   "source": [
    "print(\"Missing values for Normal:\")\n",
    "normal.isnull().sum()"
   ]
  },
  {
   "cell_type": "code",
   "execution_count": 8,
   "id": "72846a0d",
   "metadata": {
    "ExecuteTime": {
     "end_time": "2022-06-16T15:33:17.751438Z",
     "start_time": "2022-06-16T15:33:17.734484Z"
    }
   },
   "outputs": [
    {
     "name": "stdout",
     "output_type": "stream",
     "text": [
      "Missing values for Hyperchromasia:\n"
     ]
    },
    {
     "data": {
      "text/plain": [
       "area                     0\n",
       "perimeter                0\n",
       "eccentricity             0\n",
       "mean_intensity           0\n",
       "roundness_circularity    0\n",
       "dtype: int64"
      ]
     },
     "execution_count": 8,
     "metadata": {},
     "output_type": "execute_result"
    }
   ],
   "source": [
    "print(\"Missing values for Hyperchromasia:\")\n",
    "hyperchromasia.isnull().sum()"
   ]
  },
  {
   "cell_type": "code",
   "execution_count": 9,
   "id": "fae64034",
   "metadata": {
    "ExecuteTime": {
     "end_time": "2022-06-16T15:33:18.405765Z",
     "start_time": "2022-06-16T15:33:18.390806Z"
    }
   },
   "outputs": [
    {
     "name": "stdout",
     "output_type": "stream",
     "text": [
      "Missing values for Abnormal Shape:\n"
     ]
    },
    {
     "data": {
      "text/plain": [
       "area                     0\n",
       "perimeter                0\n",
       "eccentricity             0\n",
       "mean_intensity           0\n",
       "roundness_circularity    0\n",
       "dtype: int64"
      ]
     },
     "execution_count": 9,
     "metadata": {},
     "output_type": "execute_result"
    }
   ],
   "source": [
    "print(\"Missing values for Abnormal Shape:\")\n",
    "abnormalshape.isnull().sum()"
   ]
  },
  {
   "cell_type": "markdown",
   "id": "5e5fe900",
   "metadata": {},
   "source": [
    "## Univarariate Analysis"
   ]
  },
  {
   "cell_type": "markdown",
   "id": "2809715c",
   "metadata": {},
   "source": [
    "### Describe data"
   ]
  },
  {
   "cell_type": "code",
   "execution_count": 10,
   "id": "77bd91ed",
   "metadata": {
    "ExecuteTime": {
     "end_time": "2022-06-16T15:33:20.414280Z",
     "start_time": "2022-06-16T15:33:20.380411Z"
    }
   },
   "outputs": [
    {
     "data": {
      "text/html": [
       "<div>\n",
       "<style scoped>\n",
       "    .dataframe tbody tr th:only-of-type {\n",
       "        vertical-align: middle;\n",
       "    }\n",
       "\n",
       "    .dataframe tbody tr th {\n",
       "        vertical-align: top;\n",
       "    }\n",
       "\n",
       "    .dataframe thead th {\n",
       "        text-align: right;\n",
       "    }\n",
       "</style>\n",
       "<table border=\"1\" class=\"dataframe\">\n",
       "  <thead>\n",
       "    <tr style=\"text-align: right;\">\n",
       "      <th></th>\n",
       "      <th>area</th>\n",
       "      <th>perimeter</th>\n",
       "      <th>eccentricity</th>\n",
       "      <th>mean_intensity</th>\n",
       "      <th>roundness_circularity</th>\n",
       "    </tr>\n",
       "  </thead>\n",
       "  <tbody>\n",
       "    <tr>\n",
       "      <th>count</th>\n",
       "      <td>1157.000000</td>\n",
       "      <td>1157.000000</td>\n",
       "      <td>1157.000000</td>\n",
       "      <td>1157.000000</td>\n",
       "      <td>1157.000000</td>\n",
       "    </tr>\n",
       "    <tr>\n",
       "      <th>mean</th>\n",
       "      <td>2692.014693</td>\n",
       "      <td>190.357974</td>\n",
       "      <td>0.728369</td>\n",
       "      <td>139.633245</td>\n",
       "      <td>0.803821</td>\n",
       "    </tr>\n",
       "    <tr>\n",
       "      <th>std</th>\n",
       "      <td>2156.911544</td>\n",
       "      <td>95.319463</td>\n",
       "      <td>0.135299</td>\n",
       "      <td>31.544126</td>\n",
       "      <td>0.121395</td>\n",
       "    </tr>\n",
       "    <tr>\n",
       "      <th>min</th>\n",
       "      <td>115.000000</td>\n",
       "      <td>37.798990</td>\n",
       "      <td>0.110156</td>\n",
       "      <td>52.819731</td>\n",
       "      <td>0.323539</td>\n",
       "    </tr>\n",
       "    <tr>\n",
       "      <th>25%</th>\n",
       "      <td>624.000000</td>\n",
       "      <td>94.426407</td>\n",
       "      <td>0.657053</td>\n",
       "      <td>119.891460</td>\n",
       "      <td>0.737386</td>\n",
       "    </tr>\n",
       "    <tr>\n",
       "      <th>50%</th>\n",
       "      <td>2297.000000</td>\n",
       "      <td>193.137085</td>\n",
       "      <td>0.747875</td>\n",
       "      <td>146.044164</td>\n",
       "      <td>0.836630</td>\n",
       "    </tr>\n",
       "    <tr>\n",
       "      <th>75%</th>\n",
       "      <td>4292.000000</td>\n",
       "      <td>258.592929</td>\n",
       "      <td>0.824189</td>\n",
       "      <td>162.460709</td>\n",
       "      <td>0.888124</td>\n",
       "    </tr>\n",
       "    <tr>\n",
       "      <th>max</th>\n",
       "      <td>11836.000000</td>\n",
       "      <td>538.073160</td>\n",
       "      <td>0.984546</td>\n",
       "      <td>204.032414</td>\n",
       "      <td>1.047884</td>\n",
       "    </tr>\n",
       "  </tbody>\n",
       "</table>\n",
       "</div>"
      ],
      "text/plain": [
       "               area    perimeter  eccentricity  mean_intensity  \\\n",
       "count   1157.000000  1157.000000   1157.000000     1157.000000   \n",
       "mean    2692.014693   190.357974      0.728369      139.633245   \n",
       "std     2156.911544    95.319463      0.135299       31.544126   \n",
       "min      115.000000    37.798990      0.110156       52.819731   \n",
       "25%      624.000000    94.426407      0.657053      119.891460   \n",
       "50%     2297.000000   193.137085      0.747875      146.044164   \n",
       "75%     4292.000000   258.592929      0.824189      162.460709   \n",
       "max    11836.000000   538.073160      0.984546      204.032414   \n",
       "\n",
       "       roundness_circularity  \n",
       "count            1157.000000  \n",
       "mean                0.803821  \n",
       "std                 0.121395  \n",
       "min                 0.323539  \n",
       "25%                 0.737386  \n",
       "50%                 0.836630  \n",
       "75%                 0.888124  \n",
       "max                 1.047884  "
      ]
     },
     "execution_count": 10,
     "metadata": {},
     "output_type": "execute_result"
    }
   ],
   "source": [
    "normal.describe()"
   ]
  },
  {
   "cell_type": "code",
   "execution_count": 11,
   "id": "20284780",
   "metadata": {
    "ExecuteTime": {
     "end_time": "2022-06-16T15:33:21.238017Z",
     "start_time": "2022-06-16T15:33:21.204107Z"
    }
   },
   "outputs": [
    {
     "data": {
      "text/html": [
       "<div>\n",
       "<style scoped>\n",
       "    .dataframe tbody tr th:only-of-type {\n",
       "        vertical-align: middle;\n",
       "    }\n",
       "\n",
       "    .dataframe tbody tr th {\n",
       "        vertical-align: top;\n",
       "    }\n",
       "\n",
       "    .dataframe thead th {\n",
       "        text-align: right;\n",
       "    }\n",
       "</style>\n",
       "<table border=\"1\" class=\"dataframe\">\n",
       "  <thead>\n",
       "    <tr style=\"text-align: right;\">\n",
       "      <th></th>\n",
       "      <th>area</th>\n",
       "      <th>perimeter</th>\n",
       "      <th>eccentricity</th>\n",
       "      <th>mean_intensity</th>\n",
       "      <th>roundness_circularity</th>\n",
       "    </tr>\n",
       "  </thead>\n",
       "  <tbody>\n",
       "    <tr>\n",
       "      <th>count</th>\n",
       "      <td>1727.000000</td>\n",
       "      <td>1727.000000</td>\n",
       "      <td>1727.000000</td>\n",
       "      <td>1727.000000</td>\n",
       "      <td>1727.000000</td>\n",
       "    </tr>\n",
       "    <tr>\n",
       "      <th>mean</th>\n",
       "      <td>3131.774754</td>\n",
       "      <td>246.776542</td>\n",
       "      <td>0.755985</td>\n",
       "      <td>65.833724</td>\n",
       "      <td>0.681275</td>\n",
       "    </tr>\n",
       "    <tr>\n",
       "      <th>std</th>\n",
       "      <td>6801.740030</td>\n",
       "      <td>369.510870</td>\n",
       "      <td>0.170043</td>\n",
       "      <td>23.277017</td>\n",
       "      <td>0.221588</td>\n",
       "    </tr>\n",
       "    <tr>\n",
       "      <th>min</th>\n",
       "      <td>121.000000</td>\n",
       "      <td>38.627417</td>\n",
       "      <td>0.157852</td>\n",
       "      <td>18.421616</td>\n",
       "      <td>0.028577</td>\n",
       "    </tr>\n",
       "    <tr>\n",
       "      <th>25%</th>\n",
       "      <td>498.500000</td>\n",
       "      <td>90.204581</td>\n",
       "      <td>0.650173</td>\n",
       "      <td>48.211136</td>\n",
       "      <td>0.524578</td>\n",
       "    </tr>\n",
       "    <tr>\n",
       "      <th>50%</th>\n",
       "      <td>2048.000000</td>\n",
       "      <td>196.651804</td>\n",
       "      <td>0.800919</td>\n",
       "      <td>60.491287</td>\n",
       "      <td>0.710466</td>\n",
       "    </tr>\n",
       "    <tr>\n",
       "      <th>75%</th>\n",
       "      <td>3844.000000</td>\n",
       "      <td>288.270599</td>\n",
       "      <td>0.888104</td>\n",
       "      <td>82.615214</td>\n",
       "      <td>0.838747</td>\n",
       "    </tr>\n",
       "    <tr>\n",
       "      <th>max</th>\n",
       "      <td>150066.000000</td>\n",
       "      <td>8123.365651</td>\n",
       "      <td>0.991102</td>\n",
       "      <td>122.652893</td>\n",
       "      <td>1.023513</td>\n",
       "    </tr>\n",
       "  </tbody>\n",
       "</table>\n",
       "</div>"
      ],
      "text/plain": [
       "                area    perimeter  eccentricity  mean_intensity  \\\n",
       "count    1727.000000  1727.000000   1727.000000     1727.000000   \n",
       "mean     3131.774754   246.776542      0.755985       65.833724   \n",
       "std      6801.740030   369.510870      0.170043       23.277017   \n",
       "min       121.000000    38.627417      0.157852       18.421616   \n",
       "25%       498.500000    90.204581      0.650173       48.211136   \n",
       "50%      2048.000000   196.651804      0.800919       60.491287   \n",
       "75%      3844.000000   288.270599      0.888104       82.615214   \n",
       "max    150066.000000  8123.365651      0.991102      122.652893   \n",
       "\n",
       "       roundness_circularity  \n",
       "count            1727.000000  \n",
       "mean                0.681275  \n",
       "std                 0.221588  \n",
       "min                 0.028577  \n",
       "25%                 0.524578  \n",
       "50%                 0.710466  \n",
       "75%                 0.838747  \n",
       "max                 1.023513  "
      ]
     },
     "execution_count": 11,
     "metadata": {},
     "output_type": "execute_result"
    }
   ],
   "source": [
    "hyperchromasia.describe()"
   ]
  },
  {
   "cell_type": "code",
   "execution_count": 12,
   "id": "25154f53",
   "metadata": {
    "ExecuteTime": {
     "end_time": "2022-06-16T15:33:22.137493Z",
     "start_time": "2022-06-16T15:33:22.119541Z"
    }
   },
   "outputs": [
    {
     "data": {
      "text/html": [
       "<div>\n",
       "<style scoped>\n",
       "    .dataframe tbody tr th:only-of-type {\n",
       "        vertical-align: middle;\n",
       "    }\n",
       "\n",
       "    .dataframe tbody tr th {\n",
       "        vertical-align: top;\n",
       "    }\n",
       "\n",
       "    .dataframe thead th {\n",
       "        text-align: right;\n",
       "    }\n",
       "</style>\n",
       "<table border=\"1\" class=\"dataframe\">\n",
       "  <thead>\n",
       "    <tr style=\"text-align: right;\">\n",
       "      <th></th>\n",
       "      <th>area</th>\n",
       "      <th>perimeter</th>\n",
       "      <th>eccentricity</th>\n",
       "      <th>mean_intensity</th>\n",
       "      <th>roundness_circularity</th>\n",
       "    </tr>\n",
       "  </thead>\n",
       "  <tbody>\n",
       "    <tr>\n",
       "      <th>count</th>\n",
       "      <td>2897.000000</td>\n",
       "      <td>2897.000000</td>\n",
       "      <td>2897.000000</td>\n",
       "      <td>2897.000000</td>\n",
       "      <td>2897.000000</td>\n",
       "    </tr>\n",
       "    <tr>\n",
       "      <th>mean</th>\n",
       "      <td>2716.096652</td>\n",
       "      <td>231.135440</td>\n",
       "      <td>0.765650</td>\n",
       "      <td>62.733505</td>\n",
       "      <td>0.658979</td>\n",
       "    </tr>\n",
       "    <tr>\n",
       "      <th>std</th>\n",
       "      <td>3422.684289</td>\n",
       "      <td>207.871275</td>\n",
       "      <td>0.173561</td>\n",
       "      <td>18.488417</td>\n",
       "      <td>0.232032</td>\n",
       "    </tr>\n",
       "    <tr>\n",
       "      <th>min</th>\n",
       "      <td>121.000000</td>\n",
       "      <td>38.627417</td>\n",
       "      <td>0.129112</td>\n",
       "      <td>18.705708</td>\n",
       "      <td>0.076091</td>\n",
       "    </tr>\n",
       "    <tr>\n",
       "      <th>25%</th>\n",
       "      <td>445.000000</td>\n",
       "      <td>83.840620</td>\n",
       "      <td>0.665186</td>\n",
       "      <td>48.901174</td>\n",
       "      <td>0.477138</td>\n",
       "    </tr>\n",
       "    <tr>\n",
       "      <th>50%</th>\n",
       "      <td>1847.000000</td>\n",
       "      <td>194.409163</td>\n",
       "      <td>0.814776</td>\n",
       "      <td>59.291237</td>\n",
       "      <td>0.670703</td>\n",
       "    </tr>\n",
       "    <tr>\n",
       "      <th>75%</th>\n",
       "      <td>3798.000000</td>\n",
       "      <td>302.634560</td>\n",
       "      <td>0.904162</td>\n",
       "      <td>76.590713</td>\n",
       "      <td>0.847977</td>\n",
       "    </tr>\n",
       "    <tr>\n",
       "      <th>max</th>\n",
       "      <td>56532.000000</td>\n",
       "      <td>2550.113057</td>\n",
       "      <td>0.990279</td>\n",
       "      <td>121.754839</td>\n",
       "      <td>1.023513</td>\n",
       "    </tr>\n",
       "  </tbody>\n",
       "</table>\n",
       "</div>"
      ],
      "text/plain": [
       "               area    perimeter  eccentricity  mean_intensity  \\\n",
       "count   2897.000000  2897.000000   2897.000000     2897.000000   \n",
       "mean    2716.096652   231.135440      0.765650       62.733505   \n",
       "std     3422.684289   207.871275      0.173561       18.488417   \n",
       "min      121.000000    38.627417      0.129112       18.705708   \n",
       "25%      445.000000    83.840620      0.665186       48.901174   \n",
       "50%     1847.000000   194.409163      0.814776       59.291237   \n",
       "75%     3798.000000   302.634560      0.904162       76.590713   \n",
       "max    56532.000000  2550.113057      0.990279      121.754839   \n",
       "\n",
       "       roundness_circularity  \n",
       "count            2897.000000  \n",
       "mean                0.658979  \n",
       "std                 0.232032  \n",
       "min                 0.076091  \n",
       "25%                 0.477138  \n",
       "50%                 0.670703  \n",
       "75%                 0.847977  \n",
       "max                 1.023513  "
      ]
     },
     "execution_count": 12,
     "metadata": {},
     "output_type": "execute_result"
    }
   ],
   "source": [
    "abnormalshape.describe()"
   ]
  },
  {
   "cell_type": "markdown",
   "id": "8afcf4be",
   "metadata": {
    "ExecuteTime": {
     "end_time": "2022-05-04T02:50:56.142785Z",
     "start_time": "2022-05-04T02:50:56.133219Z"
    }
   },
   "source": [
    "### Boxplot"
   ]
  },
  {
   "cell_type": "code",
   "execution_count": 13,
   "id": "2adec4d9",
   "metadata": {
    "ExecuteTime": {
     "end_time": "2022-06-16T15:33:23.227009Z",
     "start_time": "2022-06-16T15:33:23.214009Z"
    }
   },
   "outputs": [],
   "source": [
    "plt.rcParams[\"figure.figsize\"] = [8,6]"
   ]
  },
  {
   "cell_type": "code",
   "execution_count": 14,
   "id": "20addf5a",
   "metadata": {
    "ExecuteTime": {
     "end_time": "2022-06-16T15:33:23.831187Z",
     "start_time": "2022-06-16T15:33:23.647936Z"
    }
   },
   "outputs": [
    {
     "data": {
      "image/png": "[encoded data removed]",
      "text/plain": [
       "<Figure size 576x432 with 1 Axes>"
      ]
     },
     "metadata": {
      "needs_background": "light"
     },
     "output_type": "display_data"
    }
   ],
   "source": [
    "plt.title('Area')\n",
    "plt.boxplot([normal.area,hyperchromasia.area,abnormalshape.area],\n",
    "            #showfliers=False\n",
    "           )\n",
    "plt.xticks([1, 2, 3], ['Normal', 'Hyperchromasia', 'Abnormal Shape'])\n",
    "plt.show()"
   ]
  },
  {
   "cell_type": "code",
   "execution_count": 15,
   "id": "5cdd0142",
   "metadata": {
    "ExecuteTime": {
     "end_time": "2022-06-16T15:33:25.415566Z",
     "start_time": "2022-06-16T15:33:25.301322Z"
    }
   },
   "outputs": [
    {
     "data": {
      "image/png": "[encoded data removed]",
      "text/plain": [
       "<Figure size 576x432 with 1 Axes>"
      ]
     },
     "metadata": {
      "needs_background": "light"
     },
     "output_type": "display_data"
    }
   ],
   "source": [
    "plt.title('Perimeter')\n",
    "plt.boxplot([normal.perimeter,hyperchromasia.perimeter,abnormalshape.perimeter],\n",
    "            #showfliers=False\n",
    "           )\n",
    "plt.xticks([1, 2, 3], ['Normal', 'Hyperchromasia', 'Abnormal Shape'])\n",
    "plt.show()"
   ]
  },
  {
   "cell_type": "code",
   "execution_count": 16,
   "id": "7c8cbaf7",
   "metadata": {
    "ExecuteTime": {
     "end_time": "2022-06-16T15:35:14.592308Z",
     "start_time": "2022-06-16T15:35:14.476619Z"
    }
   },
   "outputs": [
    {
     "data": {
      "image/png": "[encoded data removed]",
      "text/plain": [
       "<Figure size 576x432 with 1 Axes>"
      ]
     },
     "metadata": {
      "needs_background": "light"
     },
     "output_type": "display_data"
    }
   ],
   "source": [
    "plt.title('Eccentricity')\n",
    "plt.boxplot([normal.eccentricity,hyperchromasia.eccentricity,abnormalshape.eccentricity])\n",
    "plt.xticks([1, 2, 3], ['Normal', 'Hyperchromasia', 'Abnormal Shape'])\n",
    "plt.show()"
   ]
  },
  {
   "cell_type": "markdown",
   "id": "4e71d481",
   "metadata": {},
   "source": [
    "<b>The mean eccentricity is lower for normal cells.\n",
    "When the eccentricity is 0, the ellipse becomes a circle.</b>"
   ]
  },
  {
   "cell_type": "code",
   "execution_count": 17,
   "id": "34c4f3e7",
   "metadata": {
    "ExecuteTime": {
     "end_time": "2022-06-16T15:35:15.864522Z",
     "start_time": "2022-06-16T15:35:15.745839Z"
    }
   },
   "outputs": [
    {
     "data": {
      "image/png": "[encoded data removed]",
      "text/plain": [
       "<Figure size 576x432 with 1 Axes>"
      ]
     },
     "metadata": {
      "needs_background": "light"
     },
     "output_type": "display_data"
    }
   ],
   "source": [
    "plt.title('Circularity')\n",
    "plt.boxplot([\n",
    "   normal.roundness_circularity,\n",
    "   hyperchromasia.roundness_circularity,\n",
    "   abnormalshape.roundness_circularity])\n",
    "plt.xticks([1, 2, 3], ['Normal', 'Hyperchromasia', 'Abnormal Shape'])\n",
    "plt.show()"
   ]
  },
  {
   "cell_type": "markdown",
   "id": "3193bc10",
   "metadata": {},
   "source": [
    "<b>The roundness circularity is higher for normal cells.\n",
    "A perfect circle equals to 1. \n",
    "As the value approaches 0, it indicates an increasingly elongated shape.</b>"
   ]
  },
  {
   "cell_type": "code",
   "execution_count": 18,
   "id": "735bf46c",
   "metadata": {
    "ExecuteTime": {
     "end_time": "2022-06-16T15:35:17.810682Z",
     "start_time": "2022-06-16T15:35:17.692997Z"
    }
   },
   "outputs": [
    {
     "data": {
      "image/png": "[encoded data removed]",
      "text/plain": [
       "<Figure size 576x432 with 1 Axes>"
      ]
     },
     "metadata": {
      "needs_background": "light"
     },
     "output_type": "display_data"
    }
   ],
   "source": [
    "plt.title('Mean Intensity')\n",
    "plt.boxplot([\n",
    "    normal.mean_intensity,\n",
    "    hyperchromasia.mean_intensity,\n",
    "    abnormalshape.mean_intensity,\n",
    "])\n",
    "plt.xticks([1, 2, 3], ['Normal', 'Hyperchromasia', 'Abnormal Shape'])\n",
    "plt.show()"
   ]
  },
  {
   "cell_type": "markdown",
   "id": "f7896098",
   "metadata": {},
   "source": [
    "<b>The mean intensity is higher for normal cells.</b>"
   ]
  },
  {
   "cell_type": "markdown",
   "id": "d89ad9a5",
   "metadata": {},
   "source": [
    "### Identify the outliers and remove them"
   ]
  },
  {
   "cell_type": "code",
   "execution_count": 19,
   "id": "a929966b",
   "metadata": {
    "ExecuteTime": {
     "end_time": "2022-06-16T15:36:29.958800Z",
     "start_time": "2022-06-16T15:36:29.927883Z"
    }
   },
   "outputs": [
    {
     "name": "stdout",
     "output_type": "stream",
     "text": [
      "Shape before: (1157, 5)\n",
      "Shape after: (1094, 5)\n",
      "Shape before: (1727, 5)\n",
      "Shape after: (1607, 5)\n",
      "Shape before: (2897, 5)\n",
      "Shape after: (2720, 5)\n"
     ]
    }
   ],
   "source": [
    "dataframes = [normal, hyperchromasia, abnormalshape]\n",
    "dataframes_output = []\n",
    "\n",
    "for df in dataframes:\n",
    "    Q1 = df.quantile(0.25)\n",
    "    Q3 = df.quantile(0.75)\n",
    "    IQR = Q3 - Q1\n",
    "    df_out = df[~((df < (Q1 - 1.5 * IQR)) |(df > (Q3 + 1.5 * IQR))).any(axis=1)]\n",
    "    print(\"Shape before:\", df.shape)\n",
    "    print(\"Shape after:\", df_out.shape)\n",
    "    dataframes_output.append(df_out)"
   ]
  },
  {
   "cell_type": "code",
   "execution_count": 20,
   "id": "5fd23f42",
   "metadata": {
    "ExecuteTime": {
     "end_time": "2022-06-16T15:36:30.455563Z",
     "start_time": "2022-06-16T15:36:30.434618Z"
    }
   },
   "outputs": [
    {
     "name": "stdout",
     "output_type": "stream",
     "text": [
      "Shape before: (1157, 5)\n",
      "Shape after: (1094, 5)\n",
      "New Normal: (1094, 5)\n"
     ]
    }
   ],
   "source": [
    "df = normal\n",
    "\n",
    "Q1 = df.quantile(0.25)\n",
    "Q3 = df.quantile(0.75)\n",
    "IQR = Q3 - Q1\n",
    "df_out = df[~((df < (Q1 - 1.5 * IQR)) |\n",
    "              (df > (Q3 + 1.5 * IQR))).any(axis=1)]\n",
    "print(\"Shape before:\", df.shape)\n",
    "print(\"Shape after:\", df_out.shape)\n",
    "\n",
    "normal = df_out\n",
    "print(\"New Normal:\", normal.shape)"
   ]
  },
  {
   "cell_type": "code",
   "execution_count": 21,
   "id": "9dd020c4",
   "metadata": {
    "ExecuteTime": {
     "end_time": "2022-06-16T15:36:31.450019Z",
     "start_time": "2022-06-16T15:36:31.435024Z"
    }
   },
   "outputs": [
    {
     "name": "stdout",
     "output_type": "stream",
     "text": [
      "Shape before: (1727, 5)\n",
      "Shape after: (1607, 5)\n",
      "New Hyperchromasia: (1607, 5)\n"
     ]
    }
   ],
   "source": [
    "df = hyperchromasia\n",
    "\n",
    "Q1 = df.quantile(0.25)\n",
    "Q3 = df.quantile(0.75)\n",
    "IQR = Q3 - Q1\n",
    "df_out = df[~((df < (Q1 - 1.5 * IQR)) |\n",
    "              (df > (Q3 + 1.5 * IQR))).any(axis=1)]\n",
    "print(\"Shape before:\", df.shape)\n",
    "print(\"Shape after:\", df_out.shape)\n",
    "\n",
    "hyperchromasia = df_out\n",
    "print(\"New Hyperchromasia:\", hyperchromasia.shape)"
   ]
  },
  {
   "cell_type": "code",
   "execution_count": 22,
   "id": "70c8d2b0",
   "metadata": {
    "ExecuteTime": {
     "end_time": "2022-06-16T15:36:34.163254Z",
     "start_time": "2022-06-16T15:36:34.145285Z"
    }
   },
   "outputs": [
    {
     "name": "stdout",
     "output_type": "stream",
     "text": [
      "Shape before: (2897, 5)\n",
      "Shape after: (2720, 5)\n",
      "New Abnormal Shape: (2720, 5)\n"
     ]
    }
   ],
   "source": [
    "df = abnormalshape\n",
    "\n",
    "Q1 = df.quantile(0.25)\n",
    "Q3 = df.quantile(0.75)\n",
    "IQR = Q3 - Q1\n",
    "df_out = df[~((df < (Q1 - 1.5 * IQR)) |\n",
    "              (df > (Q3 + 1.5 * IQR))).any(axis=1)]\n",
    "print(\"Shape before:\", df.shape)\n",
    "print(\"Shape after:\", df_out.shape)\n",
    "\n",
    "abnormalshape = df_out\n",
    "print(\"New Abnormal Shape:\", abnormalshape.shape)"
   ]
  },
  {
   "cell_type": "markdown",
   "id": "3df2d4ed",
   "metadata": {
    "ExecuteTime": {
     "end_time": "2022-06-03T05:26:48.175846Z",
     "start_time": "2022-06-03T05:26:48.168784Z"
    }
   },
   "source": [
    "### New boxplot"
   ]
  },
  {
   "cell_type": "code",
   "execution_count": 23,
   "id": "cf5bdde0",
   "metadata": {
    "ExecuteTime": {
     "end_time": "2022-06-16T15:48:43.750664Z",
     "start_time": "2022-06-16T15:48:43.738696Z"
    }
   },
   "outputs": [],
   "source": [
    "plt.rcParams[\"figure.figsize\"] = [8,6]"
   ]
  },
  {
   "cell_type": "code",
   "execution_count": 24,
   "id": "d768fad2",
   "metadata": {
    "ExecuteTime": {
     "end_time": "2022-06-16T15:48:44.321575Z",
     "start_time": "2022-06-16T15:48:44.212903Z"
    }
   },
   "outputs": [
    {
     "data": {
      "image/png": "[encoded data removed]",
      "text/plain": [
       "<Figure size 576x432 with 1 Axes>"
      ]
     },
     "metadata": {
      "needs_background": "light"
     },
     "output_type": "display_data"
    }
   ],
   "source": [
    "plt.title('Area')\n",
    "plt.boxplot([normal.area,hyperchromasia.area,abnormalshape.area],\n",
    "            #showfliers=False\n",
    "           )\n",
    "plt.xticks([1, 2, 3], ['Normal', 'Hyperchromasia', 'Abnormal Shape'])\n",
    "plt.show()"
   ]
  },
  {
   "cell_type": "code",
   "execution_count": 25,
   "id": "a66d8691",
   "metadata": {
    "ExecuteTime": {
     "end_time": "2022-06-16T15:48:45.223898Z",
     "start_time": "2022-06-16T15:48:45.095203Z"
    }
   },
   "outputs": [
    {
     "data": {
      "image/png": "[encoded data removed]",
      "text/plain": [
       "<Figure size 576x432 with 1 Axes>"
      ]
     },
     "metadata": {
      "needs_background": "light"
     },
     "output_type": "display_data"
    }
   ],
   "source": [
    "plt.title('Perimeter')\n",
    "plt.boxplot([normal.perimeter,hyperchromasia.perimeter,abnormalshape.perimeter],\n",
    "            #showfliers=False\n",
    "           )\n",
    "plt.xticks([1, 2, 3], ['Normal', 'Hyperchromasia', 'Abnormal Shape'])\n",
    "plt.show()"
   ]
  },
  {
   "cell_type": "code",
   "execution_count": 26,
   "id": "3b51a749",
   "metadata": {
    "ExecuteTime": {
     "end_time": "2022-06-16T15:48:45.732817Z",
     "start_time": "2022-06-16T15:48:45.629152Z"
    }
   },
   "outputs": [
    {
     "data": {
      "image/png": "[encoded data removed]",
      "text/plain": [
       "<Figure size 576x432 with 1 Axes>"
      ]
     },
     "metadata": {
      "needs_background": "light"
     },
     "output_type": "display_data"
    }
   ],
   "source": [
    "plt.title('Eccentricity')\n",
    "plt.boxplot([normal.eccentricity,hyperchromasia.eccentricity,abnormalshape.eccentricity])\n",
    "plt.xticks([1, 2, 3], ['Normal', 'Hyperchromasia', 'Abnormal Shape'])\n",
    "plt.show()"
   ]
  },
  {
   "cell_type": "markdown",
   "id": "d2656e68",
   "metadata": {},
   "source": [
    "<b>The mean eccentricity is lower for normal cells.\n",
    "When the eccentricity is 0, the ellipse becomes a circle.</b>"
   ]
  },
  {
   "cell_type": "code",
   "execution_count": 27,
   "id": "53d1be45",
   "metadata": {
    "ExecuteTime": {
     "end_time": "2022-06-16T18:01:03.741405Z",
     "start_time": "2022-06-16T18:01:03.629671Z"
    }
   },
   "outputs": [
    {
     "data": {
      "image/png": "[encoded data removed]",
      "text/plain": [
       "<Figure size 576x432 with 1 Axes>"
      ]
     },
     "metadata": {
      "needs_background": "light"
     },
     "output_type": "display_data"
    }
   ],
   "source": [
    "plt.title('Roundness Circularity')\n",
    "plt.boxplot([\n",
    "   normal.roundness_circularity,\n",
    "   hyperchromasia.roundness_circularity,\n",
    "   abnormalshape.roundness_circularity])\n",
    "plt.xticks([1, 2, 3], ['Normal', 'Hyperchromasia', 'Abnormal Shape'])\n",
    "plt.show()"
   ]
  },
  {
   "cell_type": "markdown",
   "id": "0653f9fd",
   "metadata": {},
   "source": [
    "<b>The roundness circularity is higher for normal cells.\n",
    "A perfect circle equals to 1. \n",
    "As the value approaches 0, it indicates an increasingly elongated shape.</b>"
   ]
  },
  {
   "cell_type": "code",
   "execution_count": 62,
   "id": "9b4c1501",
   "metadata": {
    "ExecuteTime": {
     "end_time": "2022-06-03T05:28:07.750304Z",
     "start_time": "2022-06-03T05:28:07.634281Z"
    }
   },
   "outputs": [
    {
     "data": {
      "image/png": "[encoded data removed]",
      "text/plain": [
       "<Figure size 576x432 with 1 Axes>"
      ]
     },
     "metadata": {
      "needs_background": "light"
     },
     "output_type": "display_data"
    }
   ],
   "source": [
    "plt.title('Mean Intensity')\n",
    "plt.boxplot([\n",
    "    normal.mean_intensity,\n",
    "    hyperchromasia.mean_intensity,\n",
    "    abnormalshape.mean_intensity,\n",
    "])\n",
    "plt.xticks([1, 2, 3], ['Normal', 'Hyperchromasia', 'Abnormal Shape'])\n",
    "plt.show()"
   ]
  },
  {
   "cell_type": "markdown",
   "id": "8e005771",
   "metadata": {},
   "source": [
    "<b>The mean intensity is higher for normal cells.</b>"
   ]
  },
  {
   "cell_type": "markdown",
   "id": "e24d11c9",
   "metadata": {},
   "source": [
    "### Correlation Analysis"
   ]
  },
  {
   "cell_type": "code",
   "execution_count": 34,
   "id": "89b9b08b",
   "metadata": {
    "ExecuteTime": {
     "end_time": "2022-05-05T07:34:07.526836Z",
     "start_time": "2022-05-05T07:34:07.512836Z"
    }
   },
   "outputs": [
    {
     "data": {
      "text/html": [
       "<div>\n",
       "<style scoped>\n",
       "    .dataframe tbody tr th:only-of-type {\n",
       "        vertical-align: middle;\n",
       "    }\n",
       "\n",
       "    .dataframe tbody tr th {\n",
       "        vertical-align: top;\n",
       "    }\n",
       "\n",
       "    .dataframe thead th {\n",
       "        text-align: right;\n",
       "    }\n",
       "</style>\n",
       "<table border=\"1\" class=\"dataframe\">\n",
       "  <thead>\n",
       "    <tr style=\"text-align: right;\">\n",
       "      <th></th>\n",
       "      <th>area</th>\n",
       "      <th>perimeter</th>\n",
       "      <th>eccentricity</th>\n",
       "      <th>mean_intensity</th>\n",
       "      <th>roundness_circularity</th>\n",
       "    </tr>\n",
       "  </thead>\n",
       "  <tbody>\n",
       "    <tr>\n",
       "      <th>area</th>\n",
       "      <td>1.000000</td>\n",
       "      <td>0.963704</td>\n",
       "      <td>-0.055093</td>\n",
       "      <td>0.101398</td>\n",
       "      <td>-0.331791</td>\n",
       "    </tr>\n",
       "    <tr>\n",
       "      <th>perimeter</th>\n",
       "      <td>0.963704</td>\n",
       "      <td>1.000000</td>\n",
       "      <td>0.050443</td>\n",
       "      <td>-0.003853</td>\n",
       "      <td>-0.517321</td>\n",
       "    </tr>\n",
       "    <tr>\n",
       "      <th>eccentricity</th>\n",
       "      <td>-0.055093</td>\n",
       "      <td>0.050443</td>\n",
       "      <td>1.000000</td>\n",
       "      <td>-0.210519</td>\n",
       "      <td>-0.533945</td>\n",
       "    </tr>\n",
       "    <tr>\n",
       "      <th>mean_intensity</th>\n",
       "      <td>0.101398</td>\n",
       "      <td>-0.003853</td>\n",
       "      <td>-0.210519</td>\n",
       "      <td>1.000000</td>\n",
       "      <td>0.167172</td>\n",
       "    </tr>\n",
       "    <tr>\n",
       "      <th>roundness_circularity</th>\n",
       "      <td>-0.331791</td>\n",
       "      <td>-0.517321</td>\n",
       "      <td>-0.533945</td>\n",
       "      <td>0.167172</td>\n",
       "      <td>1.000000</td>\n",
       "    </tr>\n",
       "  </tbody>\n",
       "</table>\n",
       "</div>"
      ],
      "text/plain": [
       "                           area  perimeter  eccentricity  mean_intensity  \\\n",
       "area                   1.000000   0.963704     -0.055093        0.101398   \n",
       "perimeter              0.963704   1.000000      0.050443       -0.003853   \n",
       "eccentricity          -0.055093   0.050443      1.000000       -0.210519   \n",
       "mean_intensity         0.101398  -0.003853     -0.210519        1.000000   \n",
       "roundness_circularity -0.331791  -0.517321     -0.533945        0.167172   \n",
       "\n",
       "                       roundness_circularity  \n",
       "area                               -0.331791  \n",
       "perimeter                          -0.517321  \n",
       "eccentricity                       -0.533945  \n",
       "mean_intensity                      0.167172  \n",
       "roundness_circularity               1.000000  "
      ]
     },
     "execution_count": 34,
     "metadata": {},
     "output_type": "execute_result"
    }
   ],
   "source": [
    "normal.corr()"
   ]
  },
  {
   "cell_type": "code",
   "execution_count": 35,
   "id": "145d91bc",
   "metadata": {
    "ExecuteTime": {
     "end_time": "2022-05-05T07:34:08.285344Z",
     "start_time": "2022-05-05T07:34:08.027307Z"
    }
   },
   "outputs": [
    {
     "data": {
      "image/png": "[encoded data removed]",
      "text/plain": [
       "<Figure size 1152x432 with 2 Axes>"
      ]
     },
     "metadata": {
      "needs_background": "light"
     },
     "output_type": "display_data"
    }
   ],
   "source": [
    "plt.figure(figsize=(16, 6))\n",
    "heatmap = sns.heatmap(normal.corr(), vmin=-1, vmax=1, annot=True,cmap='BrBG')\n",
    "heatmap.set_title('Normal Correlation Heatmap', fontdict={'fontsize':18}, pad=12);"
   ]
  },
  {
   "cell_type": "code",
   "execution_count": 36,
   "id": "4631743f",
   "metadata": {
    "ExecuteTime": {
     "end_time": "2022-05-05T07:34:08.659282Z",
     "start_time": "2022-05-05T07:34:08.414410Z"
    }
   },
   "outputs": [
    {
     "data": {
      "image/png": "[encoded data removed]",
      "text/plain": [
       "<Figure size 1152x432 with 2 Axes>"
      ]
     },
     "metadata": {
      "needs_background": "light"
     },
     "output_type": "display_data"
    }
   ],
   "source": [
    "plt.figure(figsize=(16, 6))\n",
    "heatmap = sns.heatmap(hyperchromasia.corr(), vmin=-1, vmax=1, annot=True,cmap='BrBG')\n",
    "heatmap.set_title('Hyperchromasia Correlation Heatmap', fontdict={'fontsize':18}, pad=12);"
   ]
  },
  {
   "cell_type": "code",
   "execution_count": 37,
   "id": "529bf23a",
   "metadata": {
    "ExecuteTime": {
     "end_time": "2022-05-05T07:34:09.305912Z",
     "start_time": "2022-05-05T07:34:09.062138Z"
    },
    "scrolled": true
   },
   "outputs": [
    {
     "data": {
      "image/png": "[encoded data removed]",
      "text/plain": [
       "<Figure size 1152x432 with 2 Axes>"
      ]
     },
     "metadata": {
      "needs_background": "light"
     },
     "output_type": "display_data"
    }
   ],
   "source": [
    "plt.figure(figsize=(16, 6))\n",
    "heatmap = sns.heatmap(abnormalshape.corr(), vmin=-1, vmax=1, annot=True,cmap='BrBG')\n",
    "heatmap.set_title('Abnormal Shape Correlation Heatmap', fontdict={'fontsize':18}, pad=12);"
   ]
  },
  {
   "cell_type": "markdown",
   "id": "cd57d656",
   "metadata": {},
   "source": [
    "## Combining all data into 1 csv (to train 1 model) + 2 csv (to train 2 models)"
   ]
  },
  {
   "cell_type": "code",
   "execution_count": 41,
   "id": "b103cf59",
   "metadata": {
    "ExecuteTime": {
     "end_time": "2022-05-05T07:34:54.100721Z",
     "start_time": "2022-05-05T07:34:54.085761Z"
    }
   },
   "outputs": [],
   "source": [
    "normal['class'] = 'Normal'"
   ]
  },
  {
   "cell_type": "code",
   "execution_count": 42,
   "id": "037bc323",
   "metadata": {
    "ExecuteTime": {
     "end_time": "2022-05-05T07:34:54.900160Z",
     "start_time": "2022-05-05T07:34:54.890192Z"
    }
   },
   "outputs": [],
   "source": [
    "hyperchromasia['class'] = 'Hyperchromasia'"
   ]
  },
  {
   "cell_type": "code",
   "execution_count": 43,
   "id": "21202418",
   "metadata": {
    "ExecuteTime": {
     "end_time": "2022-05-05T07:34:55.340715Z",
     "start_time": "2022-05-05T07:34:55.325492Z"
    }
   },
   "outputs": [],
   "source": [
    "abnormalshape['class'] = 'Abnormal_Shape'"
   ]
  },
  {
   "cell_type": "code",
   "execution_count": 23,
   "id": "9ff0a637",
   "metadata": {
    "ExecuteTime": {
     "end_time": "2022-05-04T18:13:44.042384Z",
     "start_time": "2022-05-04T18:13:44.027904Z"
    }
   },
   "outputs": [],
   "source": [
    "normal['class_label'] = 0\n",
    "hyperchromasia['class_label'] = 1\n",
    "abnormalshape['class_label'] = 2"
   ]
  },
  {
   "cell_type": "code",
   "execution_count": 24,
   "id": "2814800b",
   "metadata": {
    "ExecuteTime": {
     "end_time": "2022-05-04T18:13:44.057369Z",
     "start_time": "2022-05-04T18:13:44.043893Z"
    }
   },
   "outputs": [
    {
     "data": {
      "text/html": [
       "<div>\n",
       "<style scoped>\n",
       "    .dataframe tbody tr th:only-of-type {\n",
       "        vertical-align: middle;\n",
       "    }\n",
       "\n",
       "    .dataframe tbody tr th {\n",
       "        vertical-align: top;\n",
       "    }\n",
       "\n",
       "    .dataframe thead th {\n",
       "        text-align: right;\n",
       "    }\n",
       "</style>\n",
       "<table border=\"1\" class=\"dataframe\">\n",
       "  <thead>\n",
       "    <tr style=\"text-align: right;\">\n",
       "      <th></th>\n",
       "      <th>area</th>\n",
       "      <th>perimeter</th>\n",
       "      <th>eccentricity</th>\n",
       "      <th>mean_intensity</th>\n",
       "      <th>roundness_circularity</th>\n",
       "      <th>class</th>\n",
       "      <th>class_label</th>\n",
       "    </tr>\n",
       "  </thead>\n",
       "  <tbody>\n",
       "    <tr>\n",
       "      <th>0</th>\n",
       "      <td>4923</td>\n",
       "      <td>278.208153</td>\n",
       "      <td>0.836405</td>\n",
       "      <td>130.994516</td>\n",
       "      <td>0.799282</td>\n",
       "      <td>Normal</td>\n",
       "      <td>0</td>\n",
       "    </tr>\n",
       "    <tr>\n",
       "      <th>1</th>\n",
       "      <td>4810</td>\n",
       "      <td>290.764502</td>\n",
       "      <td>0.641405</td>\n",
       "      <td>137.652807</td>\n",
       "      <td>0.714944</td>\n",
       "      <td>Normal</td>\n",
       "      <td>0</td>\n",
       "    </tr>\n",
       "    <tr>\n",
       "      <th>2</th>\n",
       "      <td>4276</td>\n",
       "      <td>244.793939</td>\n",
       "      <td>0.598323</td>\n",
       "      <td>140.647568</td>\n",
       "      <td>0.896698</td>\n",
       "      <td>Normal</td>\n",
       "      <td>0</td>\n",
       "    </tr>\n",
       "    <tr>\n",
       "      <th>3</th>\n",
       "      <td>7207</td>\n",
       "      <td>323.220346</td>\n",
       "      <td>0.573305</td>\n",
       "      <td>181.693492</td>\n",
       "      <td>0.866896</td>\n",
       "      <td>Normal</td>\n",
       "      <td>0</td>\n",
       "    </tr>\n",
       "    <tr>\n",
       "      <th>4</th>\n",
       "      <td>6457</td>\n",
       "      <td>371.019336</td>\n",
       "      <td>0.410081</td>\n",
       "      <td>137.248877</td>\n",
       "      <td>0.589451</td>\n",
       "      <td>Normal</td>\n",
       "      <td>0</td>\n",
       "    </tr>\n",
       "  </tbody>\n",
       "</table>\n",
       "</div>"
      ],
      "text/plain": [
       "   area   perimeter  eccentricity  mean_intensity  roundness_circularity  \\\n",
       "0  4923  278.208153      0.836405      130.994516               0.799282   \n",
       "1  4810  290.764502      0.641405      137.652807               0.714944   \n",
       "2  4276  244.793939      0.598323      140.647568               0.896698   \n",
       "3  7207  323.220346      0.573305      181.693492               0.866896   \n",
       "4  6457  371.019336      0.410081      137.248877               0.589451   \n",
       "\n",
       "    class  class_label  \n",
       "0  Normal            0  \n",
       "1  Normal            0  \n",
       "2  Normal            0  \n",
       "3  Normal            0  \n",
       "4  Normal            0  "
      ]
     },
     "execution_count": 24,
     "metadata": {},
     "output_type": "execute_result"
    }
   ],
   "source": [
    "normal.head()"
   ]
  },
  {
   "cell_type": "code",
   "execution_count": 25,
   "id": "1d64b758",
   "metadata": {
    "ExecuteTime": {
     "end_time": "2022-05-04T18:13:44.072401Z",
     "start_time": "2022-05-04T18:13:44.059401Z"
    }
   },
   "outputs": [
    {
     "data": {
      "text/html": [
       "<div>\n",
       "<style scoped>\n",
       "    .dataframe tbody tr th:only-of-type {\n",
       "        vertical-align: middle;\n",
       "    }\n",
       "\n",
       "    .dataframe tbody tr th {\n",
       "        vertical-align: top;\n",
       "    }\n",
       "\n",
       "    .dataframe thead th {\n",
       "        text-align: right;\n",
       "    }\n",
       "</style>\n",
       "<table border=\"1\" class=\"dataframe\">\n",
       "  <thead>\n",
       "    <tr style=\"text-align: right;\">\n",
       "      <th></th>\n",
       "      <th>area</th>\n",
       "      <th>perimeter</th>\n",
       "      <th>eccentricity</th>\n",
       "      <th>mean_intensity</th>\n",
       "      <th>roundness_circularity</th>\n",
       "      <th>class</th>\n",
       "      <th>class_label</th>\n",
       "    </tr>\n",
       "  </thead>\n",
       "  <tbody>\n",
       "    <tr>\n",
       "      <th>0</th>\n",
       "      <td>121</td>\n",
       "      <td>38.627417</td>\n",
       "      <td>0.452998</td>\n",
       "      <td>84.239669</td>\n",
       "      <td>1.019070</td>\n",
       "      <td>Hyperchromasia</td>\n",
       "      <td>1</td>\n",
       "    </tr>\n",
       "    <tr>\n",
       "      <th>1</th>\n",
       "      <td>383</td>\n",
       "      <td>72.526912</td>\n",
       "      <td>0.706644</td>\n",
       "      <td>63.663185</td>\n",
       "      <td>0.914977</td>\n",
       "      <td>Hyperchromasia</td>\n",
       "      <td>1</td>\n",
       "    </tr>\n",
       "    <tr>\n",
       "      <th>2</th>\n",
       "      <td>579</td>\n",
       "      <td>95.355339</td>\n",
       "      <td>0.849932</td>\n",
       "      <td>70.789292</td>\n",
       "      <td>0.800200</td>\n",
       "      <td>Hyperchromasia</td>\n",
       "      <td>1</td>\n",
       "    </tr>\n",
       "    <tr>\n",
       "      <th>3</th>\n",
       "      <td>161</td>\n",
       "      <td>44.870058</td>\n",
       "      <td>0.532966</td>\n",
       "      <td>82.354037</td>\n",
       "      <td>1.004899</td>\n",
       "      <td>Hyperchromasia</td>\n",
       "      <td>1</td>\n",
       "    </tr>\n",
       "    <tr>\n",
       "      <th>4</th>\n",
       "      <td>121</td>\n",
       "      <td>38.627417</td>\n",
       "      <td>0.452998</td>\n",
       "      <td>88.107438</td>\n",
       "      <td>1.019070</td>\n",
       "      <td>Hyperchromasia</td>\n",
       "      <td>1</td>\n",
       "    </tr>\n",
       "  </tbody>\n",
       "</table>\n",
       "</div>"
      ],
      "text/plain": [
       "   area  perimeter  eccentricity  mean_intensity  roundness_circularity  \\\n",
       "0   121  38.627417      0.452998       84.239669               1.019070   \n",
       "1   383  72.526912      0.706644       63.663185               0.914977   \n",
       "2   579  95.355339      0.849932       70.789292               0.800200   \n",
       "3   161  44.870058      0.532966       82.354037               1.004899   \n",
       "4   121  38.627417      0.452998       88.107438               1.019070   \n",
       "\n",
       "            class  class_label  \n",
       "0  Hyperchromasia            1  \n",
       "1  Hyperchromasia            1  \n",
       "2  Hyperchromasia            1  \n",
       "3  Hyperchromasia            1  \n",
       "4  Hyperchromasia            1  "
      ]
     },
     "execution_count": 25,
     "metadata": {},
     "output_type": "execute_result"
    }
   ],
   "source": [
    "hyperchromasia.head()"
   ]
  },
  {
   "cell_type": "code",
   "execution_count": 26,
   "id": "448a5d35",
   "metadata": {
    "ExecuteTime": {
     "end_time": "2022-05-04T18:13:44.088324Z",
     "start_time": "2022-05-04T18:13:44.073365Z"
    }
   },
   "outputs": [
    {
     "data": {
      "text/html": [
       "<div>\n",
       "<style scoped>\n",
       "    .dataframe tbody tr th:only-of-type {\n",
       "        vertical-align: middle;\n",
       "    }\n",
       "\n",
       "    .dataframe tbody tr th {\n",
       "        vertical-align: top;\n",
       "    }\n",
       "\n",
       "    .dataframe thead th {\n",
       "        text-align: right;\n",
       "    }\n",
       "</style>\n",
       "<table border=\"1\" class=\"dataframe\">\n",
       "  <thead>\n",
       "    <tr style=\"text-align: right;\">\n",
       "      <th></th>\n",
       "      <th>area</th>\n",
       "      <th>perimeter</th>\n",
       "      <th>eccentricity</th>\n",
       "      <th>mean_intensity</th>\n",
       "      <th>roundness_circularity</th>\n",
       "      <th>class</th>\n",
       "      <th>class_label</th>\n",
       "    </tr>\n",
       "  </thead>\n",
       "  <tbody>\n",
       "    <tr>\n",
       "      <th>0</th>\n",
       "      <td>3124</td>\n",
       "      <td>269.178716</td>\n",
       "      <td>0.887236</td>\n",
       "      <td>57.240397</td>\n",
       "      <td>0.541801</td>\n",
       "      <td>Abnormal_Shape</td>\n",
       "      <td>2</td>\n",
       "    </tr>\n",
       "    <tr>\n",
       "      <th>1</th>\n",
       "      <td>1904</td>\n",
       "      <td>202.693434</td>\n",
       "      <td>0.781381</td>\n",
       "      <td>77.886555</td>\n",
       "      <td>0.582368</td>\n",
       "      <td>Abnormal_Shape</td>\n",
       "      <td>2</td>\n",
       "    </tr>\n",
       "    <tr>\n",
       "      <th>2</th>\n",
       "      <td>594</td>\n",
       "      <td>91.597980</td>\n",
       "      <td>0.363010</td>\n",
       "      <td>75.843434</td>\n",
       "      <td>0.889661</td>\n",
       "      <td>Abnormal_Shape</td>\n",
       "      <td>2</td>\n",
       "    </tr>\n",
       "    <tr>\n",
       "      <th>3</th>\n",
       "      <td>5872</td>\n",
       "      <td>449.730014</td>\n",
       "      <td>0.553170</td>\n",
       "      <td>64.990123</td>\n",
       "      <td>0.364831</td>\n",
       "      <td>Abnormal_Shape</td>\n",
       "      <td>2</td>\n",
       "    </tr>\n",
       "    <tr>\n",
       "      <th>4</th>\n",
       "      <td>4558</td>\n",
       "      <td>277.036580</td>\n",
       "      <td>0.735453</td>\n",
       "      <td>58.542782</td>\n",
       "      <td>0.746294</td>\n",
       "      <td>Abnormal_Shape</td>\n",
       "      <td>2</td>\n",
       "    </tr>\n",
       "  </tbody>\n",
       "</table>\n",
       "</div>"
      ],
      "text/plain": [
       "   area   perimeter  eccentricity  mean_intensity  roundness_circularity  \\\n",
       "0  3124  269.178716      0.887236       57.240397               0.541801   \n",
       "1  1904  202.693434      0.781381       77.886555               0.582368   \n",
       "2   594   91.597980      0.363010       75.843434               0.889661   \n",
       "3  5872  449.730014      0.553170       64.990123               0.364831   \n",
       "4  4558  277.036580      0.735453       58.542782               0.746294   \n",
       "\n",
       "            class  class_label  \n",
       "0  Abnormal_Shape            2  \n",
       "1  Abnormal_Shape            2  \n",
       "2  Abnormal_Shape            2  \n",
       "3  Abnormal_Shape            2  \n",
       "4  Abnormal_Shape            2  "
      ]
     },
     "execution_count": 26,
     "metadata": {},
     "output_type": "execute_result"
    }
   ],
   "source": [
    "abnormalshape.head()"
   ]
  },
  {
   "cell_type": "code",
   "execution_count": 27,
   "id": "df3ddc8a",
   "metadata": {
    "ExecuteTime": {
     "end_time": "2022-05-04T18:13:44.103286Z",
     "start_time": "2022-05-04T18:13:44.090320Z"
    }
   },
   "outputs": [],
   "source": [
    "df = pd.concat([normal,hyperchromasia,abnormalshape])"
   ]
  },
  {
   "cell_type": "code",
   "execution_count": 28,
   "id": "2ac547fd",
   "metadata": {
    "ExecuteTime": {
     "end_time": "2022-05-04T18:13:44.118269Z",
     "start_time": "2022-05-04T18:13:44.105279Z"
    }
   },
   "outputs": [
    {
     "data": {
      "text/html": [
       "<div>\n",
       "<style scoped>\n",
       "    .dataframe tbody tr th:only-of-type {\n",
       "        vertical-align: middle;\n",
       "    }\n",
       "\n",
       "    .dataframe tbody tr th {\n",
       "        vertical-align: top;\n",
       "    }\n",
       "\n",
       "    .dataframe thead th {\n",
       "        text-align: right;\n",
       "    }\n",
       "</style>\n",
       "<table border=\"1\" class=\"dataframe\">\n",
       "  <thead>\n",
       "    <tr style=\"text-align: right;\">\n",
       "      <th></th>\n",
       "      <th>area</th>\n",
       "      <th>perimeter</th>\n",
       "      <th>eccentricity</th>\n",
       "      <th>mean_intensity</th>\n",
       "      <th>roundness_circularity</th>\n",
       "      <th>class</th>\n",
       "      <th>class_label</th>\n",
       "    </tr>\n",
       "  </thead>\n",
       "  <tbody>\n",
       "    <tr>\n",
       "      <th>0</th>\n",
       "      <td>4923</td>\n",
       "      <td>278.208153</td>\n",
       "      <td>0.836405</td>\n",
       "      <td>130.994516</td>\n",
       "      <td>0.799282</td>\n",
       "      <td>Normal</td>\n",
       "      <td>0</td>\n",
       "    </tr>\n",
       "    <tr>\n",
       "      <th>1</th>\n",
       "      <td>4810</td>\n",
       "      <td>290.764502</td>\n",
       "      <td>0.641405</td>\n",
       "      <td>137.652807</td>\n",
       "      <td>0.714944</td>\n",
       "      <td>Normal</td>\n",
       "      <td>0</td>\n",
       "    </tr>\n",
       "    <tr>\n",
       "      <th>2</th>\n",
       "      <td>4276</td>\n",
       "      <td>244.793939</td>\n",
       "      <td>0.598323</td>\n",
       "      <td>140.647568</td>\n",
       "      <td>0.896698</td>\n",
       "      <td>Normal</td>\n",
       "      <td>0</td>\n",
       "    </tr>\n",
       "    <tr>\n",
       "      <th>3</th>\n",
       "      <td>7207</td>\n",
       "      <td>323.220346</td>\n",
       "      <td>0.573305</td>\n",
       "      <td>181.693492</td>\n",
       "      <td>0.866896</td>\n",
       "      <td>Normal</td>\n",
       "      <td>0</td>\n",
       "    </tr>\n",
       "    <tr>\n",
       "      <th>4</th>\n",
       "      <td>6457</td>\n",
       "      <td>371.019336</td>\n",
       "      <td>0.410081</td>\n",
       "      <td>137.248877</td>\n",
       "      <td>0.589451</td>\n",
       "      <td>Normal</td>\n",
       "      <td>0</td>\n",
       "    </tr>\n",
       "    <tr>\n",
       "      <th>...</th>\n",
       "      <td>...</td>\n",
       "      <td>...</td>\n",
       "      <td>...</td>\n",
       "      <td>...</td>\n",
       "      <td>...</td>\n",
       "      <td>...</td>\n",
       "      <td>...</td>\n",
       "    </tr>\n",
       "    <tr>\n",
       "      <th>2892</th>\n",
       "      <td>138</td>\n",
       "      <td>41.455844</td>\n",
       "      <td>0.503438</td>\n",
       "      <td>80.195652</td>\n",
       "      <td>1.009061</td>\n",
       "      <td>Abnormal_Shape</td>\n",
       "      <td>2</td>\n",
       "    </tr>\n",
       "    <tr>\n",
       "      <th>2893</th>\n",
       "      <td>1990</td>\n",
       "      <td>187.823376</td>\n",
       "      <td>0.867542</td>\n",
       "      <td>41.285427</td>\n",
       "      <td>0.708865</td>\n",
       "      <td>Abnormal_Shape</td>\n",
       "      <td>2</td>\n",
       "    </tr>\n",
       "    <tr>\n",
       "      <th>2894</th>\n",
       "      <td>235</td>\n",
       "      <td>54.870058</td>\n",
       "      <td>0.469153</td>\n",
       "      <td>88.774468</td>\n",
       "      <td>0.980860</td>\n",
       "      <td>Abnormal_Shape</td>\n",
       "      <td>2</td>\n",
       "    </tr>\n",
       "    <tr>\n",
       "      <th>2895</th>\n",
       "      <td>279</td>\n",
       "      <td>60.183766</td>\n",
       "      <td>0.446679</td>\n",
       "      <td>63.333333</td>\n",
       "      <td>0.967955</td>\n",
       "      <td>Abnormal_Shape</td>\n",
       "      <td>2</td>\n",
       "    </tr>\n",
       "    <tr>\n",
       "      <th>2896</th>\n",
       "      <td>1406</td>\n",
       "      <td>150.953319</td>\n",
       "      <td>0.770990</td>\n",
       "      <td>22.644381</td>\n",
       "      <td>0.775372</td>\n",
       "      <td>Abnormal_Shape</td>\n",
       "      <td>2</td>\n",
       "    </tr>\n",
       "  </tbody>\n",
       "</table>\n",
       "<p>5781 rows × 7 columns</p>\n",
       "</div>"
      ],
      "text/plain": [
       "      area   perimeter  eccentricity  mean_intensity  roundness_circularity  \\\n",
       "0     4923  278.208153      0.836405      130.994516               0.799282   \n",
       "1     4810  290.764502      0.641405      137.652807               0.714944   \n",
       "2     4276  244.793939      0.598323      140.647568               0.896698   \n",
       "3     7207  323.220346      0.573305      181.693492               0.866896   \n",
       "4     6457  371.019336      0.410081      137.248877               0.589451   \n",
       "...    ...         ...           ...             ...                    ...   \n",
       "2892   138   41.455844      0.503438       80.195652               1.009061   \n",
       "2893  1990  187.823376      0.867542       41.285427               0.708865   \n",
       "2894   235   54.870058      0.469153       88.774468               0.980860   \n",
       "2895   279   60.183766      0.446679       63.333333               0.967955   \n",
       "2896  1406  150.953319      0.770990       22.644381               0.775372   \n",
       "\n",
       "               class  class_label  \n",
       "0             Normal            0  \n",
       "1             Normal            0  \n",
       "2             Normal            0  \n",
       "3             Normal            0  \n",
       "4             Normal            0  \n",
       "...              ...          ...  \n",
       "2892  Abnormal_Shape            2  \n",
       "2893  Abnormal_Shape            2  \n",
       "2894  Abnormal_Shape            2  \n",
       "2895  Abnormal_Shape            2  \n",
       "2896  Abnormal_Shape            2  \n",
       "\n",
       "[5781 rows x 7 columns]"
      ]
     },
     "execution_count": 28,
     "metadata": {},
     "output_type": "execute_result"
    }
   ],
   "source": [
    "df"
   ]
  },
  {
   "cell_type": "code",
   "execution_count": 29,
   "id": "8aff0729",
   "metadata": {
    "ExecuteTime": {
     "end_time": "2022-05-04T18:13:44.133205Z",
     "start_time": "2022-05-04T18:13:44.119242Z"
    }
   },
   "outputs": [
    {
     "data": {
      "text/plain": [
       "count               5781\n",
       "unique                 3\n",
       "top       Abnormal_Shape\n",
       "freq                2897\n",
       "Name: class, dtype: object"
      ]
     },
     "execution_count": 29,
     "metadata": {},
     "output_type": "execute_result"
    }
   ],
   "source": [
    "df['class'].describe()"
   ]
  },
  {
   "cell_type": "code",
   "execution_count": 30,
   "id": "08713381",
   "metadata": {
    "ExecuteTime": {
     "end_time": "2022-05-04T18:13:44.148200Z",
     "start_time": "2022-05-04T18:13:44.134203Z"
    }
   },
   "outputs": [
    {
     "data": {
      "text/plain": [
       "count    5781.000000\n",
       "mean        1.300986\n",
       "std         0.781521\n",
       "min         0.000000\n",
       "25%         1.000000\n",
       "50%         2.000000\n",
       "75%         2.000000\n",
       "max         2.000000\n",
       "Name: class_label, dtype: float64"
      ]
     },
     "execution_count": 30,
     "metadata": {},
     "output_type": "execute_result"
    }
   ],
   "source": [
    "df['class_label'].describe()"
   ]
  },
  {
   "cell_type": "code",
   "execution_count": 43,
   "id": "f15ef5e5",
   "metadata": {
    "ExecuteTime": {
     "end_time": "2022-05-04T18:21:15.670748Z",
     "start_time": "2022-05-04T18:21:15.624866Z"
    }
   },
   "outputs": [],
   "source": [
    "df.to_csv('data.csv',index=False)"
   ]
  },
  {
   "cell_type": "markdown",
   "id": "2e47fba8",
   "metadata": {},
   "source": [
    "<b>Normal = 0, Hyperchromasia = 1</b>"
   ]
  },
  {
   "cell_type": "code",
   "execution_count": 44,
   "id": "ff9bfd4b",
   "metadata": {
    "ExecuteTime": {
     "end_time": "2022-05-05T07:36:00.458512Z",
     "start_time": "2022-05-05T07:36:00.447502Z"
    }
   },
   "outputs": [],
   "source": [
    "normal['class_label'] = 0\n",
    "hyperchromasia['class_label'] = 1"
   ]
  },
  {
   "cell_type": "code",
   "execution_count": 45,
   "id": "d0e3b1b5",
   "metadata": {
    "ExecuteTime": {
     "end_time": "2022-05-05T07:36:17.421791Z",
     "start_time": "2022-05-05T07:36:17.400847Z"
    }
   },
   "outputs": [
    {
     "data": {
      "text/html": [
       "<div>\n",
       "<style scoped>\n",
       "    .dataframe tbody tr th:only-of-type {\n",
       "        vertical-align: middle;\n",
       "    }\n",
       "\n",
       "    .dataframe tbody tr th {\n",
       "        vertical-align: top;\n",
       "    }\n",
       "\n",
       "    .dataframe thead th {\n",
       "        text-align: right;\n",
       "    }\n",
       "</style>\n",
       "<table border=\"1\" class=\"dataframe\">\n",
       "  <thead>\n",
       "    <tr style=\"text-align: right;\">\n",
       "      <th></th>\n",
       "      <th>area</th>\n",
       "      <th>perimeter</th>\n",
       "      <th>eccentricity</th>\n",
       "      <th>mean_intensity</th>\n",
       "      <th>roundness_circularity</th>\n",
       "      <th>class</th>\n",
       "      <th>class_label</th>\n",
       "    </tr>\n",
       "  </thead>\n",
       "  <tbody>\n",
       "    <tr>\n",
       "      <th>0</th>\n",
       "      <td>4923</td>\n",
       "      <td>278.208153</td>\n",
       "      <td>0.836405</td>\n",
       "      <td>130.994516</td>\n",
       "      <td>0.799282</td>\n",
       "      <td>Normal</td>\n",
       "      <td>0</td>\n",
       "    </tr>\n",
       "    <tr>\n",
       "      <th>1</th>\n",
       "      <td>4810</td>\n",
       "      <td>290.764502</td>\n",
       "      <td>0.641405</td>\n",
       "      <td>137.652807</td>\n",
       "      <td>0.714944</td>\n",
       "      <td>Normal</td>\n",
       "      <td>0</td>\n",
       "    </tr>\n",
       "    <tr>\n",
       "      <th>2</th>\n",
       "      <td>4276</td>\n",
       "      <td>244.793939</td>\n",
       "      <td>0.598323</td>\n",
       "      <td>140.647568</td>\n",
       "      <td>0.896698</td>\n",
       "      <td>Normal</td>\n",
       "      <td>0</td>\n",
       "    </tr>\n",
       "    <tr>\n",
       "      <th>3</th>\n",
       "      <td>7207</td>\n",
       "      <td>323.220346</td>\n",
       "      <td>0.573305</td>\n",
       "      <td>181.693492</td>\n",
       "      <td>0.866896</td>\n",
       "      <td>Normal</td>\n",
       "      <td>0</td>\n",
       "    </tr>\n",
       "    <tr>\n",
       "      <th>4</th>\n",
       "      <td>6457</td>\n",
       "      <td>371.019336</td>\n",
       "      <td>0.410081</td>\n",
       "      <td>137.248877</td>\n",
       "      <td>0.589451</td>\n",
       "      <td>Normal</td>\n",
       "      <td>0</td>\n",
       "    </tr>\n",
       "  </tbody>\n",
       "</table>\n",
       "</div>"
      ],
      "text/plain": [
       "   area   perimeter  eccentricity  mean_intensity  roundness_circularity  \\\n",
       "0  4923  278.208153      0.836405      130.994516               0.799282   \n",
       "1  4810  290.764502      0.641405      137.652807               0.714944   \n",
       "2  4276  244.793939      0.598323      140.647568               0.896698   \n",
       "3  7207  323.220346      0.573305      181.693492               0.866896   \n",
       "4  6457  371.019336      0.410081      137.248877               0.589451   \n",
       "\n",
       "    class  class_label  \n",
       "0  Normal            0  \n",
       "1  Normal            0  \n",
       "2  Normal            0  \n",
       "3  Normal            0  \n",
       "4  Normal            0  "
      ]
     },
     "execution_count": 45,
     "metadata": {},
     "output_type": "execute_result"
    }
   ],
   "source": [
    "normal.head()"
   ]
  },
  {
   "cell_type": "code",
   "execution_count": 46,
   "id": "0524e2e0",
   "metadata": {
    "ExecuteTime": {
     "end_time": "2022-05-05T07:36:22.707915Z",
     "start_time": "2022-05-05T07:36:22.689986Z"
    }
   },
   "outputs": [
    {
     "data": {
      "text/html": [
       "<div>\n",
       "<style scoped>\n",
       "    .dataframe tbody tr th:only-of-type {\n",
       "        vertical-align: middle;\n",
       "    }\n",
       "\n",
       "    .dataframe tbody tr th {\n",
       "        vertical-align: top;\n",
       "    }\n",
       "\n",
       "    .dataframe thead th {\n",
       "        text-align: right;\n",
       "    }\n",
       "</style>\n",
       "<table border=\"1\" class=\"dataframe\">\n",
       "  <thead>\n",
       "    <tr style=\"text-align: right;\">\n",
       "      <th></th>\n",
       "      <th>area</th>\n",
       "      <th>perimeter</th>\n",
       "      <th>eccentricity</th>\n",
       "      <th>mean_intensity</th>\n",
       "      <th>roundness_circularity</th>\n",
       "      <th>class</th>\n",
       "      <th>class_label</th>\n",
       "    </tr>\n",
       "  </thead>\n",
       "  <tbody>\n",
       "    <tr>\n",
       "      <th>0</th>\n",
       "      <td>121</td>\n",
       "      <td>38.627417</td>\n",
       "      <td>0.452998</td>\n",
       "      <td>84.239669</td>\n",
       "      <td>1.019070</td>\n",
       "      <td>Hyperchromasia</td>\n",
       "      <td>1</td>\n",
       "    </tr>\n",
       "    <tr>\n",
       "      <th>1</th>\n",
       "      <td>383</td>\n",
       "      <td>72.526912</td>\n",
       "      <td>0.706644</td>\n",
       "      <td>63.663185</td>\n",
       "      <td>0.914977</td>\n",
       "      <td>Hyperchromasia</td>\n",
       "      <td>1</td>\n",
       "    </tr>\n",
       "    <tr>\n",
       "      <th>2</th>\n",
       "      <td>579</td>\n",
       "      <td>95.355339</td>\n",
       "      <td>0.849932</td>\n",
       "      <td>70.789292</td>\n",
       "      <td>0.800200</td>\n",
       "      <td>Hyperchromasia</td>\n",
       "      <td>1</td>\n",
       "    </tr>\n",
       "    <tr>\n",
       "      <th>3</th>\n",
       "      <td>161</td>\n",
       "      <td>44.870058</td>\n",
       "      <td>0.532966</td>\n",
       "      <td>82.354037</td>\n",
       "      <td>1.004899</td>\n",
       "      <td>Hyperchromasia</td>\n",
       "      <td>1</td>\n",
       "    </tr>\n",
       "    <tr>\n",
       "      <th>4</th>\n",
       "      <td>121</td>\n",
       "      <td>38.627417</td>\n",
       "      <td>0.452998</td>\n",
       "      <td>88.107438</td>\n",
       "      <td>1.019070</td>\n",
       "      <td>Hyperchromasia</td>\n",
       "      <td>1</td>\n",
       "    </tr>\n",
       "  </tbody>\n",
       "</table>\n",
       "</div>"
      ],
      "text/plain": [
       "   area  perimeter  eccentricity  mean_intensity  roundness_circularity  \\\n",
       "0   121  38.627417      0.452998       84.239669               1.019070   \n",
       "1   383  72.526912      0.706644       63.663185               0.914977   \n",
       "2   579  95.355339      0.849932       70.789292               0.800200   \n",
       "3   161  44.870058      0.532966       82.354037               1.004899   \n",
       "4   121  38.627417      0.452998       88.107438               1.019070   \n",
       "\n",
       "            class  class_label  \n",
       "0  Hyperchromasia            1  \n",
       "1  Hyperchromasia            1  \n",
       "2  Hyperchromasia            1  \n",
       "3  Hyperchromasia            1  \n",
       "4  Hyperchromasia            1  "
      ]
     },
     "execution_count": 46,
     "metadata": {},
     "output_type": "execute_result"
    }
   ],
   "source": [
    "hyperchromasia.head()"
   ]
  },
  {
   "cell_type": "code",
   "execution_count": 48,
   "id": "cb8d6398",
   "metadata": {
    "ExecuteTime": {
     "end_time": "2022-05-05T07:36:51.602792Z",
     "start_time": "2022-05-05T07:36:51.595848Z"
    }
   },
   "outputs": [],
   "source": [
    "df1 = pd.concat([normal,hyperchromasia])"
   ]
  },
  {
   "cell_type": "code",
   "execution_count": 49,
   "id": "8db8ec3d",
   "metadata": {
    "ExecuteTime": {
     "end_time": "2022-05-05T07:37:23.461009Z",
     "start_time": "2022-05-05T07:37:23.427058Z"
    }
   },
   "outputs": [],
   "source": [
    "df1.to_csv('NormalVSHyperchromasia.csv',index=False)"
   ]
  },
  {
   "cell_type": "markdown",
   "id": "ea9ae4de",
   "metadata": {},
   "source": [
    "<b>Normal = 0, AbnormalShape = 1</b>"
   ]
  },
  {
   "cell_type": "code",
   "execution_count": 50,
   "id": "6d65f1f5",
   "metadata": {
    "ExecuteTime": {
     "end_time": "2022-05-05T07:38:16.491665Z",
     "start_time": "2022-05-05T07:38:16.478680Z"
    }
   },
   "outputs": [],
   "source": [
    "normal['class_label'] = 0\n",
    "abnormalshape['class_label'] = 1"
   ]
  },
  {
   "cell_type": "code",
   "execution_count": 52,
   "id": "ca03973e",
   "metadata": {
    "ExecuteTime": {
     "end_time": "2022-05-05T07:38:47.634535Z",
     "start_time": "2022-05-05T07:38:47.625562Z"
    }
   },
   "outputs": [],
   "source": [
    "df2 = pd.concat([normal,abnormalshape])"
   ]
  },
  {
   "cell_type": "code",
   "execution_count": 54,
   "id": "63bc902e",
   "metadata": {
    "ExecuteTime": {
     "end_time": "2022-05-05T07:45:47.727107Z",
     "start_time": "2022-05-05T07:45:47.685387Z"
    }
   },
   "outputs": [],
   "source": [
    "df2.to_csv('NormalVSAbnormalShape.csv',index=False)"
   ]
  }
 ],
 "metadata": {
  "kernelspec": {
   "display_name": "Python 3 (ipykernel)",
   "language": "python",
   "name": "python3"
  },
  "language_info": {
   "codemirror_mode": {
    "name": "ipython",
    "version": 3
   },
   "file_extension": ".py",
   "mimetype": "text/x-python",
   "name": "python",
   "nbconvert_exporter": "python",
   "pygments_lexer": "ipython3",
   "version": "3.8.13"
  },
  "toc": {
   "base_numbering": 1,
   "nav_menu": {},
   "number_sections": true,
   "sideBar": true,
   "skip_h1_title": false,
   "title_cell": "Table of Contents",
   "title_sidebar": "Contents",
   "toc_cell": false,
   "toc_position": {
    "height": "calc(100% - 180px)",
    "left": "10px",
    "top": "150px",
    "width": "383.991px"
   },
   "toc_section_display": true,
   "toc_window_display": true
  },
  "varInspector": {
   "cols": {
    "lenName": 16,
    "lenType": 16,
    "lenVar": 40
   },
   "kernels_config": {
    "python": {
     "delete_cmd_postfix": "",
     "delete_cmd_prefix": "del ",
     "library": "var_list.py",
     "varRefreshCmd": "print(var_dic_list())"
    },
    "r": {
     "delete_cmd_postfix": ") ",
     "delete_cmd_prefix": "rm(",
     "library": "var_list.r",
     "varRefreshCmd": "cat(var_dic_list()) "
    }
   },
   "position": {
    "height": "439.85px",
    "left": "398px",
    "right": "20px",
    "top": "120px",
    "width": "350px"
   },
   "types_to_exclude": [
    "module",
    "function",
    "builtin_function_or_method",
    "instance",
    "_Feature"
   ],
   "window_display": false
  }
 },
 "nbformat": 4,
 "nbformat_minor": 5
}
