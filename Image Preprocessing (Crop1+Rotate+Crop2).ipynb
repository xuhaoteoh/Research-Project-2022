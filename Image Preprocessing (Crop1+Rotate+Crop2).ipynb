{
 "cells": [
  {
   "cell_type": "markdown",
   "id": "b18b4387",
   "metadata": {},
   "source": [
    "## For Crop + Rotate + Crop"
   ]
  },
  {
   "cell_type": "code",
   "execution_count": 1,
   "id": "c00bc444",
   "metadata": {
    "ExecuteTime": {
     "end_time": "2022-07-07T01:35:42.020891Z",
     "start_time": "2022-07-07T01:35:41.313534Z"
    }
   },
   "outputs": [],
   "source": [
    "# Define the crop function\n",
    "\n",
    "from PIL import Image, ImageChops\n",
    "Image.MAX_IMAGE_PIXELS = None #Important since our images are HUGE\n",
    "\n",
    "import os\n",
    "import cv2\n",
    "\n",
    "rootdir = \"D://OneDrive - Universiti Malaya//Work//Desktop//UM Master of Data Science//Sem 2//0 - Research Project//Data//Normal\"\n",
    "\n",
    "def trim(image):\n",
    "    im = Image.open(image)\n",
    "    bg = Image.new(im.mode, im.size, im.getpixel((0,0)))\n",
    "    diff = ImageChops.difference(im, bg)\n",
    "    diff = ImageChops.add(diff, diff, 2.0, -100)\n",
    "    bbox = diff.getbbox()\n",
    "    if bbox:\n",
    "        return im.crop(bbox)"
   ]
  },
  {
   "cell_type": "code",
   "execution_count": 2,
   "id": "54d5b721",
   "metadata": {
    "ExecuteTime": {
     "end_time": "2022-07-07T01:37:40.838428Z",
     "start_time": "2022-07-07T01:35:42.652209Z"
    }
   },
   "outputs": [],
   "source": [
    "im2 = trim(\"Normal/1/707-DP-17-2_Default_Extended.tif\")"
   ]
  },
  {
   "cell_type": "code",
   "execution_count": 3,
   "id": "bfb7cb21",
   "metadata": {
    "ExecuteTime": {
     "end_time": "2022-07-07T01:37:58.144642Z",
     "start_time": "2022-07-07T01:37:44.815941Z"
    }
   },
   "outputs": [],
   "source": [
    "im2.show()"
   ]
  },
  {
   "cell_type": "markdown",
   "id": "e79eb278",
   "metadata": {
    "ExecuteTime": {
     "end_time": "2022-04-01T13:09:24.806938Z",
     "start_time": "2022-04-01T13:00:52.803429Z"
    }
   },
   "source": [
    "### first crop to get ROI"
   ]
  },
  {
   "cell_type": "code",
   "execution_count": null,
   "id": "3b9d0e0f",
   "metadata": {},
   "outputs": [],
   "source": [
    "rootdir = \"D://OneDrive - Universiti Malaya//Work//Desktop//UM Master of Data Science//Sem 2//0 - Research Project//Data//Normal\"\n",
    "\n",
    "for subdir, dirs, files in os.walk(rootdir):\n",
    "    for file in files:\n",
    "        image_path = os.path.join(subdir, file)\n",
    "        im2 = trim(image_path)\n",
    "        im2.save(\"crop1_output.png\")"
   ]
  },
  {
   "cell_type": "markdown",
   "id": "3f07cbff",
   "metadata": {},
   "source": [
    "if file is too big, we need to reduce the size"
   ]
  },
  {
   "cell_type": "code",
   "execution_count": 16,
   "id": "0f6f7909",
   "metadata": {
    "ExecuteTime": {
     "end_time": "2022-04-01T13:35:27.586039Z",
     "start_time": "2022-04-01T13:33:05.245007Z"
    }
   },
   "outputs": [],
   "source": [
    "rootdir = \"D://OneDrive - Universiti Malaya//Work//Desktop//UM Master of Data Science//Sem 2//0 - Research Project//Data//Normal\"\n",
    "\n",
    "for subdir, dirs, files in os.walk(rootdir):\n",
    "    for file in files:\n",
    "        image_path = os.path.join(subdir, file)\n",
    "        image = cv2.imread(image_path)\n",
    "        output_file = os.path.join(subdir,\"reduced.png\")\n",
    "        cv2.imwrite(output_file,image)"
   ]
  },
  {
   "cell_type": "markdown",
   "id": "088b7fc1",
   "metadata": {},
   "source": [
    "### After reducing the size, we perform crop 1"
   ]
  },
  {
   "cell_type": "code",
   "execution_count": 17,
   "id": "a7e7208b",
   "metadata": {
    "ExecuteTime": {
     "end_time": "2022-04-01T13:49:58.685684Z",
     "start_time": "2022-04-01T13:40:09.375346Z"
    }
   },
   "outputs": [],
   "source": [
    "rootdir = \"D://OneDrive - Universiti Malaya//Work//Desktop//UM Master of Data Science//Sem 2//0 - Research Project//Data//Normal\"\n",
    "\n",
    "for subdir, dirs, files in os.walk(rootdir):\n",
    "    for file in files:\n",
    "        if file.endswith(\".png\"):\n",
    "            image_path = os.path.join(subdir, file)\n",
    "            im2 = trim(image_path)\n",
    "            output_file = os.path.join(subdir,\"crop1.png\")\n",
    "            im2.save(output_file)"
   ]
  },
  {
   "cell_type": "markdown",
   "id": "c350b225",
   "metadata": {
    "ExecuteTime": {
     "end_time": "2022-04-01T13:52:25.194284Z",
     "start_time": "2022-04-01T13:52:25.182316Z"
    }
   },
   "source": [
    "### After crop 1, we rotate the images"
   ]
  },
  {
   "cell_type": "code",
   "execution_count": 4,
   "id": "d9876a23",
   "metadata": {
    "ExecuteTime": {
     "end_time": "2022-06-24T09:46:29.875427Z",
     "start_time": "2022-06-24T09:46:29.042255Z"
    }
   },
   "outputs": [],
   "source": [
    "## Define the rotate function\n",
    "\n",
    "import numpy as np\n",
    "import math\n",
    "from scipy import ndimage\n",
    "import matplotlib.pyplot as plt\n",
    "\n",
    "def rotate(image):\n",
    "    #img_before = cv2.imread(image)\n",
    "\n",
    "    #cv2.imshow(\"Before\", img_before)    \n",
    "    #key = cv2.waitKey(0)\n",
    "\n",
    "    angles = []\n",
    "\n",
    "    img_gray = cv2.cvtColor(image, cv2.COLOR_BGR2GRAY)\n",
    "    img_edges = cv2.Canny(img_gray, 60, 60, apertureSize=3)\n",
    "    lines = cv2.HoughLinesP(img_edges, 1, math.pi / 180.0, 100, minLineLength=100, maxLineGap=5)\n",
    "\n",
    "    for [[x1, y1, x2, y2]] in lines:\n",
    "        cv2.line(image, (x1, y1), (x2, y2), (255, 0, 0), 3)\n",
    "        angle = math.degrees(math.atan2(y2 - y1, x2 - x1))\n",
    "        angles.append(angle)\n",
    "\n",
    "        #cv2.imshow(\"Detected lines\", img_before)    \n",
    "        #key = cv2.waitKey(0)\n",
    "\n",
    "    median_angle = np.median(angles)\n",
    "    img_rotated = ndimage.rotate(image, median_angle)\n",
    "        \n",
    "    return img_rotated\n",
    "\n",
    "    #print(f\"Angle is {median_angle:.04f}\")\n",
    "    #cv2.imwrite('rotated.png', img_rotated)  "
   ]
  },
  {
   "cell_type": "code",
   "execution_count": 11,
   "id": "fce710fc",
   "metadata": {
    "ExecuteTime": {
     "end_time": "2022-04-04T10:03:44.809245Z",
     "start_time": "2022-04-04T09:32:59.936839Z"
    }
   },
   "outputs": [],
   "source": [
    "for subdir, dirs, files in os.walk(rootdir):\n",
    "    for file in files:\n",
    "        if file == \"crop1.png\":\n",
    "            image_path = os.path.join(subdir, file)\n",
    "            img = cv2.imread(image_path)\n",
    "            im = rotate(img)\n",
    "            output_file = os.path.join(subdir,\"rotated.png\")\n",
    "            cv2.imwrite(output_file,im)"
   ]
  },
  {
   "cell_type": "markdown",
   "id": "754d5a05",
   "metadata": {},
   "source": [
    "### Check if the images are well rotated or not"
   ]
  },
  {
   "cell_type": "code",
   "execution_count": null,
   "id": "d5828e09",
   "metadata": {},
   "outputs": [],
   "source": [
    "plt.rcParams[\"figure.figsize\"] = (8,8)\n",
    "\n",
    "for subdir, dirs, files in os.walk(rootdir):\n",
    "    for file in files:\n",
    "        if file == \"rotated.png\":\n",
    "            image_path = os.path.join(subdir, file)\n",
    "            img = cv2.imread(image_path)\n",
    "            #img = cv2.cvtColor(img,cv2.COLOR_BGR2GRAY)\n",
    "            print(subdir)\n",
    "            plt.imshow(img)\n",
    "            plt.axis(\"off\")\n",
    "            plt.show()"
   ]
  },
  {
   "cell_type": "markdown",
   "id": "aaea4000",
   "metadata": {},
   "source": [
    "### Manually rotate some of the images"
   ]
  },
  {
   "cell_type": "code",
   "execution_count": null,
   "id": "5dc93fc3",
   "metadata": {},
   "outputs": [],
   "source": [
    "img_before = cv2.imread('cropped.png')\n",
    "\n",
    "img_rotated = ndimage.rotate(img_before,-21)\n",
    "\n",
    "plt.imshow(img_rotated)"
   ]
  },
  {
   "cell_type": "markdown",
   "id": "ec1242cc",
   "metadata": {},
   "source": [
    "## Perform Final Crop"
   ]
  },
  {
   "cell_type": "code",
   "execution_count": 7,
   "id": "70ce198e",
   "metadata": {
    "ExecuteTime": {
     "end_time": "2022-04-06T10:39:43.796067Z",
     "start_time": "2022-04-06T10:39:43.758316Z"
    }
   },
   "outputs": [],
   "source": [
    "def trim2(im):\n",
    "    bg = Image.new(im.mode, im.size, im.getpixel((0,0)))\n",
    "    diff = ImageChops.difference(im, bg)\n",
    "    diff = ImageChops.add(diff, diff, 2.0, -100)\n",
    "    bbox = diff.getbbox()\n",
    "    if bbox:\n",
    "        return im.crop(bbox)"
   ]
  },
  {
   "cell_type": "code",
   "execution_count": 8,
   "id": "633ea1f6",
   "metadata": {
    "ExecuteTime": {
     "end_time": "2022-04-06T10:57:07.831960Z",
     "start_time": "2022-04-06T10:39:52.621161Z"
    }
   },
   "outputs": [],
   "source": [
    "for subdir, dirs, files in os.walk(rootdir):\n",
    "    for file in files:\n",
    "        if file == \"rotated.png\":\n",
    "            image_path = os.path.join(subdir, file)\n",
    "            img_rotated = cv2.imread(image_path)\n",
    "            img_rotated = cv2.cvtColor(img_rotated,cv2.COLOR_BGR2RGB)\n",
    "            black_pixels = np.where(\n",
    "                (img_rotated[:, :, 0] == 0) &\n",
    "                (img_rotated[:, :, 1] == 0) &\n",
    "                (img_rotated[:, :, 2] == 0)\n",
    "            )\n",
    "            # set those black pixels to white\n",
    "            img_rotated[black_pixels] = [255, 255, 255]\n",
    "            \n",
    "            im = Image.fromarray(img_rotated)\n",
    "            im2 = trim2(im)\n",
    "            \n",
    "            output_file = os.path.join(subdir, \"crop2.png\")\n",
    "            \n",
    "            im2.save(output_file)"
   ]
  },
  {
   "cell_type": "markdown",
   "id": "6b766ed7",
   "metadata": {},
   "source": [
    "### Check if the images are well cropped or not"
   ]
  },
  {
   "cell_type": "code",
   "execution_count": null,
   "id": "9d8e1cf0",
   "metadata": {},
   "outputs": [],
   "source": [
    "for subdir, dirs, files in os.walk(rootdir):\n",
    "    for file in files:\n",
    "        if file == \"crop2.png\":\n",
    "            image_path = os.path.join(subdir, file)\n",
    "            img = cv2.imread(image_path)\n",
    "            #img = cv2.cvtColor(img,cv2.COLOR_BGR2GRAY)\n",
    "            print(subdir)\n",
    "            plt.imshow(img)\n",
    "            plt.axis(\"off\")\n",
    "            plt.show()"
   ]
  },
  {
   "cell_type": "markdown",
   "id": "b2279e60",
   "metadata": {},
   "source": [
    "### Crop images into several pieces if they are too big (For normal only)"
   ]
  },
  {
   "cell_type": "code",
   "execution_count": 7,
   "id": "dbc4c2c9",
   "metadata": {
    "ExecuteTime": {
     "end_time": "2022-04-14T09:01:02.370276Z",
     "start_time": "2022-04-14T09:01:02.256654Z"
    }
   },
   "outputs": [
    {
     "data": {
      "text/plain": [
       "(12727, 10249)"
      ]
     },
     "execution_count": 7,
     "metadata": {},
     "output_type": "execute_result"
    }
   ],
   "source": [
    "file_path = \"Normal/4/crop2.png\"\n",
    "img = Image.open(file_path)\n",
    "img.size"
   ]
  },
  {
   "cell_type": "code",
   "execution_count": 9,
   "id": "fe0e947c",
   "metadata": {
    "ExecuteTime": {
     "end_time": "2022-04-14T09:20:56.754829Z",
     "start_time": "2022-04-14T09:06:10.611220Z"
    }
   },
   "outputs": [],
   "source": [
    "from itertools import product\n",
    "\n",
    "for subdir, dirs, files in os.walk(rootdir):\n",
    "    for file in files:\n",
    "        if file == \"crop2.png\":\n",
    "            image_path = os.path.join(subdir, file)\n",
    "            name, ext = os.path.splitext(file)\n",
    "            img = Image.open(image_path)\n",
    "            w, h = img.size\n",
    "            d = 1024\n",
    "            grid = product(range(0, h-h % d, d), range(0, w-w % d, d))\n",
    "            for i, j in grid:\n",
    "                box = (j, i, j+d, i+d)\n",
    "                out = os.path.join(subdir, f'{name}_{i}_{j}{ext}')\n",
    "                img.crop(box).save(out)"
   ]
  }
 ],
 "metadata": {
  "kernelspec": {
   "display_name": "ResearchProject",
   "language": "python",
   "name": "researchproject"
  },
  "language_info": {
   "codemirror_mode": {
    "name": "ipython",
    "version": 3
   },
   "file_extension": ".py",
   "mimetype": "text/x-python",
   "name": "python",
   "nbconvert_exporter": "python",
   "pygments_lexer": "ipython3",
   "version": "3.8.13"
  },
  "toc": {
   "base_numbering": 1,
   "nav_menu": {},
   "number_sections": true,
   "sideBar": true,
   "skip_h1_title": false,
   "title_cell": "Table of Contents",
   "title_sidebar": "Contents",
   "toc_cell": false,
   "toc_position": {},
   "toc_section_display": true,
   "toc_window_display": false
  },
  "varInspector": {
   "cols": {
    "lenName": 16,
    "lenType": 16,
    "lenVar": 40
   },
   "kernels_config": {
    "python": {
     "delete_cmd_postfix": "",
     "delete_cmd_prefix": "del ",
     "library": "var_list.py",
     "varRefreshCmd": "print(var_dic_list())"
    },
    "r": {
     "delete_cmd_postfix": ") ",
     "delete_cmd_prefix": "rm(",
     "library": "var_list.r",
     "varRefreshCmd": "cat(var_dic_list()) "
    }
   },
   "oldHeight": 489.844,
   "position": {
    "height": "40px",
    "left": "1460.45px",
    "right": "20px",
    "top": "120px",
    "width": "250px"
   },
   "types_to_exclude": [
    "module",
    "function",
    "builtin_function_or_method",
    "instance",
    "_Feature"
   ],
   "varInspector_section_display": "none",
   "window_display": true
  }
 },
 "nbformat": 4,
 "nbformat_minor": 5
}
