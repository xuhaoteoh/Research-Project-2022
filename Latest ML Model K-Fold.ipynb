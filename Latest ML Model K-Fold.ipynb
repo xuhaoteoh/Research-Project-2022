{
 "cells": [
  {
   "cell_type": "markdown",
   "id": "33690fe5",
   "metadata": {},
   "source": [
    "<b> We are training 2 Different ML Models. </b>"
   ]
  },
  {
   "cell_type": "code",
   "execution_count": 1,
   "id": "aabe0b51",
   "metadata": {
    "ExecuteTime": {
     "end_time": "2022-06-03T05:43:47.224568Z",
     "start_time": "2022-06-03T05:43:45.537486Z"
    }
   },
   "outputs": [],
   "source": [
    "#import the useful libraries.\n",
    "import numpy as np\n",
    "import pandas as pd\n",
    "import seaborn as sns\n",
    "import matplotlib.pyplot as plt\n",
    "\n",
    "%matplotlib inline"
   ]
  },
  {
   "cell_type": "markdown",
   "id": "4f68c254",
   "metadata": {},
   "source": [
    "## Normal vs Hyperchromasia"
   ]
  },
  {
   "cell_type": "code",
   "execution_count": 2,
   "id": "e3164881",
   "metadata": {
    "ExecuteTime": {
     "end_time": "2022-06-03T05:43:50.995119Z",
     "start_time": "2022-06-03T05:43:50.964937Z"
    }
   },
   "outputs": [],
   "source": [
    "data = pd.read_csv(\"New NormalVSHyperchromasia.csv\")"
   ]
  },
  {
   "cell_type": "code",
   "execution_count": 3,
   "id": "6cfc7aca",
   "metadata": {
    "ExecuteTime": {
     "end_time": "2022-06-03T05:43:54.654994Z",
     "start_time": "2022-06-03T05:43:54.638522Z"
    },
    "scrolled": false
   },
   "outputs": [
    {
     "data": {
      "text/plain": [
       "Hyperchromasia    1618\n",
       "Normal            1152\n",
       "Name: class, dtype: int64"
      ]
     },
     "execution_count": 3,
     "metadata": {},
     "output_type": "execute_result"
    }
   ],
   "source": [
    "data['class'].value_counts()"
   ]
  },
  {
   "cell_type": "code",
   "execution_count": 4,
   "id": "2c27bceb",
   "metadata": {
    "ExecuteTime": {
     "end_time": "2022-06-03T05:44:02.812945Z",
     "start_time": "2022-06-03T05:44:02.792925Z"
    }
   },
   "outputs": [
    {
     "name": "stdout",
     "output_type": "stream",
     "text": [
      "Class Ratio: 0.58\n"
     ]
    }
   ],
   "source": [
    "class_ratio = sum(data['class_label'])/len(data['class_label'])\n",
    "print('Class Ratio:','{:.2f}'.format(class_ratio))"
   ]
  },
  {
   "cell_type": "markdown",
   "id": "2977f1dd",
   "metadata": {},
   "source": [
    "### Stratified KFold"
   ]
  },
  {
   "cell_type": "code",
   "execution_count": 5,
   "id": "ee1dbe43",
   "metadata": {
    "ExecuteTime": {
     "end_time": "2022-06-03T05:44:08.642770Z",
     "start_time": "2022-06-03T05:44:08.196157Z"
    }
   },
   "outputs": [],
   "source": [
    "# Import Required Modules.\n",
    "from statistics import mean, stdev\n",
    "from sklearn import preprocessing\n",
    "from sklearn.model_selection import StratifiedKFold\n",
    "\n",
    "skf = StratifiedKFold(n_splits=10, shuffle=True, random_state=30)"
   ]
  },
  {
   "cell_type": "code",
   "execution_count": 6,
   "id": "715a383e",
   "metadata": {
    "ExecuteTime": {
     "end_time": "2022-06-03T05:44:09.028511Z",
     "start_time": "2022-06-03T05:44:09.017609Z"
    }
   },
   "outputs": [],
   "source": [
    "target = data.loc[:,'class_label']"
   ]
  },
  {
   "cell_type": "code",
   "execution_count": 7,
   "id": "0985c363",
   "metadata": {
    "ExecuteTime": {
     "end_time": "2022-06-03T05:44:09.543661Z",
     "start_time": "2022-06-03T05:44:09.498453Z"
    }
   },
   "outputs": [
    {
     "name": "stdout",
     "output_type": "stream",
     "text": [
      "Fold 1 Class Ratio: 0.58\n",
      "Fold 2 Class Ratio: 0.58\n",
      "Fold 3 Class Ratio: 0.58\n",
      "Fold 4 Class Ratio: 0.58\n",
      "Fold 5 Class Ratio: 0.58\n",
      "Fold 6 Class Ratio: 0.58\n",
      "Fold 7 Class Ratio: 0.58\n",
      "Fold 8 Class Ratio: 0.58\n",
      "Fold 9 Class Ratio: 0.58\n",
      "Fold 10 Class Ratio: 0.58\n"
     ]
    }
   ],
   "source": [
    "fold_no = 1\n",
    "for train_index, test_index in skf.split(data, target):\n",
    "    train = data.loc[train_index, :]\n",
    "    test = data.loc[test_index, :]\n",
    "    class_ratio = sum(test['class_label'])/len(test['class_label'])\n",
    "    print('Fold', str(fold_no), 'Class Ratio:','{:.2f}'.format(class_ratio))\n",
    "    \n",
    "    fold_no += 1"
   ]
  },
  {
   "cell_type": "markdown",
   "id": "b1a9e592",
   "metadata": {
    "ExecuteTime": {
     "end_time": "2022-05-05T13:40:22.694119Z",
     "start_time": "2022-05-05T13:40:22.688101Z"
    }
   },
   "source": [
    "### Decision Tree"
   ]
  },
  {
   "cell_type": "markdown",
   "id": "ac09c640",
   "metadata": {
    "ExecuteTime": {
     "end_time": "2022-05-05T14:12:27.473829Z",
     "start_time": "2022-05-05T14:12:27.463819Z"
    }
   },
   "source": [
    "<b>Balanced Accuracy</b>"
   ]
  },
  {
   "cell_type": "code",
   "execution_count": 8,
   "id": "2851a134",
   "metadata": {
    "ExecuteTime": {
     "end_time": "2022-06-03T05:44:13.712443Z",
     "start_time": "2022-06-03T05:44:13.257840Z"
    },
    "scrolled": true
   },
   "outputs": [],
   "source": [
    "from sklearn.tree import DecisionTreeClassifier\n",
    "from sklearn.metrics import balanced_accuracy_score\n",
    "\n",
    "# create model\n",
    "model = DecisionTreeClassifier() "
   ]
  },
  {
   "cell_type": "code",
   "execution_count": 9,
   "id": "c4d5365d",
   "metadata": {
    "ExecuteTime": {
     "end_time": "2022-06-03T05:44:13.759493Z",
     "start_time": "2022-06-03T05:44:13.746423Z"
    }
   },
   "outputs": [],
   "source": [
    "def train_modelDT(train, test, fold_no):\n",
    "    X = ['area','perimeter','eccentricity','mean_intensity','roundness_circularity']\n",
    "    y = ['class_label']\n",
    "    X_train = train[X]\n",
    "    y_train = train[y]\n",
    "    X_test = test[X]\n",
    "    y_test = test[y]\n",
    "    model.fit(X_train,y_train)\n",
    "    predictions = model.predict(X_test)\n",
    "    balanced_accuracy = balanced_accuracy_score(y_test,predictions)\n",
    "    print('Fold',str(fold_no),'Balanced Accuracy:',\n",
    "          '{:.4f}'.format(balanced_accuracy))\n",
    "    accu_stratified.append(balanced_accuracy)    "
   ]
  },
  {
   "cell_type": "code",
   "execution_count": 10,
   "id": "73b616ea",
   "metadata": {
    "ExecuteTime": {
     "end_time": "2022-06-03T05:44:14.557933Z",
     "start_time": "2022-06-03T05:44:14.412419Z"
    }
   },
   "outputs": [
    {
     "name": "stdout",
     "output_type": "stream",
     "text": [
      "Fold 1 Balanced Accuracy: 0.9289\n",
      "Fold 2 Balanced Accuracy: 0.9450\n",
      "Fold 3 Balanced Accuracy: 0.9454\n",
      "Fold 4 Balanced Accuracy: 0.9510\n",
      "Fold 5 Balanced Accuracy: 0.9541\n",
      "Fold 6 Balanced Accuracy: 0.9610\n",
      "Fold 7 Balanced Accuracy: 0.9690\n",
      "Fold 8 Balanced Accuracy: 0.9367\n",
      "Fold 9 Balanced Accuracy: 0.9585\n",
      "Fold 10 Balanced Accuracy: 0.9808\n"
     ]
    }
   ],
   "source": [
    "fold_no = 1\n",
    "accu_stratified = []\n",
    "\n",
    "for train_index, test_index in skf.split(data, target):\n",
    "    train = data.loc[train_index,:]\n",
    "    test = data.loc[test_index,:]\n",
    "    train_modelDT(train,test,fold_no)\n",
    "    fold_no += 1"
   ]
  },
  {
   "cell_type": "code",
   "execution_count": 11,
   "id": "39720e07",
   "metadata": {
    "ExecuteTime": {
     "end_time": "2022-06-03T05:44:15.375654Z",
     "start_time": "2022-06-03T05:44:15.357720Z"
    }
   },
   "outputs": [
    {
     "name": "stdout",
     "output_type": "stream",
     "text": [
      "The Maximum Accuracy That can be obtained from this model is: 98.08%\n",
      "\n",
      "The Minimum Accuracy: 92.89%\n",
      "\n",
      "The Overall Accuracy: 95.31%\n",
      "\n",
      "The Standard Deviation is: 1.5244%\n"
     ]
    }
   ],
   "source": [
    "print('The Maximum Accuracy That can be obtained from this model is:',\n",
    "      '{:.2f}%'.format(max(accu_stratified)*100))\n",
    "print('\\nThe Minimum Accuracy:',\n",
    "      '{:.2f}%'.format(min(accu_stratified)*100))\n",
    "print('\\nThe Overall Accuracy:',\n",
    "      '{:.2f}%'.format(mean(accu_stratified)*100))\n",
    "print('\\nThe Standard Deviation is:', \n",
    "      '{:.4f}%'.format(stdev(accu_stratified)*100))"
   ]
  },
  {
   "cell_type": "markdown",
   "id": "841babc4",
   "metadata": {
    "ExecuteTime": {
     "end_time": "2022-05-05T13:41:15.200358Z",
     "start_time": "2022-05-05T13:41:15.193377Z"
    }
   },
   "source": [
    "### Logistic Regression"
   ]
  },
  {
   "cell_type": "code",
   "execution_count": 12,
   "id": "39992007",
   "metadata": {
    "ExecuteTime": {
     "end_time": "2022-06-03T05:44:17.486796Z",
     "start_time": "2022-06-03T05:44:17.482704Z"
    },
    "scrolled": true
   },
   "outputs": [],
   "source": [
    "from sklearn.linear_model import LogisticRegression\n",
    "\n",
    "model = LogisticRegression(solver='lbfgs', max_iter=500)"
   ]
  },
  {
   "cell_type": "code",
   "execution_count": 13,
   "id": "30b8e3a1",
   "metadata": {
    "ExecuteTime": {
     "end_time": "2022-06-03T05:44:17.938642Z",
     "start_time": "2022-06-03T05:44:17.924952Z"
    }
   },
   "outputs": [],
   "source": [
    "def train_model(train, test, fold_no):\n",
    "    X = ['area','perimeter','eccentricity','mean_intensity','roundness_circularity']\n",
    "    y = ['class_label']\n",
    "    X_train = train[X]\n",
    "    y_train = train[y]\n",
    "    X_test = test[X]\n",
    "    y_test = test[y]\n",
    "    model.fit(X_train,y_train.values.ravel())\n",
    "    predictions = model.predict(X_test)\n",
    "    global balanced_accuracy\n",
    "    balanced_accuracy = balanced_accuracy_score(y_test,predictions)\n",
    "    #accu_stratified.append(balanced_accuracy)"
   ]
  },
  {
   "cell_type": "code",
   "execution_count": 14,
   "id": "52635a82",
   "metadata": {
    "ExecuteTime": {
     "end_time": "2022-06-03T05:44:18.850405Z",
     "start_time": "2022-06-03T05:44:18.304867Z"
    }
   },
   "outputs": [
    {
     "name": "stdout",
     "output_type": "stream",
     "text": [
      "Fold 1 Balanced Accuracy: 0.9296\n",
      "Fold 2 Balanced Accuracy: 0.8822\n",
      "Fold 3 Balanced Accuracy: 0.8400\n",
      "Fold 4 Balanced Accuracy: 0.9076\n",
      "Fold 5 Balanced Accuracy: 0.9194\n",
      "Fold 6 Balanced Accuracy: 0.9560\n",
      "Fold 7 Balanced Accuracy: 0.9386\n",
      "Fold 8 Balanced Accuracy: 0.8977\n",
      "Fold 9 Balanced Accuracy: 0.9275\n",
      "Fold 10 Balanced Accuracy: 0.9337\n"
     ]
    }
   ],
   "source": [
    "fold_no = 1\n",
    "accu_stratified = []\n",
    "\n",
    "for train_index, test_index in skf.split(data, target):\n",
    "    train = data.loc[train_index,:]\n",
    "    test = data.loc[test_index,:]\n",
    "    train_model(train,test,fold_no)\n",
    "    print('Fold',str(fold_no),'Balanced Accuracy:','{:.4f}'.format(balanced_accuracy))\n",
    "    accu_stratified.append(balanced_accuracy)\n",
    "    fold_no += 1"
   ]
  },
  {
   "cell_type": "code",
   "execution_count": 15,
   "id": "7dea5b87",
   "metadata": {
    "ExecuteTime": {
     "end_time": "2022-06-03T05:44:19.441499Z",
     "start_time": "2022-06-03T05:44:19.428691Z"
    }
   },
   "outputs": [
    {
     "name": "stdout",
     "output_type": "stream",
     "text": [
      "The Maximum Accuracy That can be obtained from this model is: 95.60%\n",
      "\n",
      "The Minimum Accuracy: 84.00%\n",
      "\n",
      "The Overall Accuracy: 91.32%\n",
      "\n",
      "The Standard Deviation is: 3.3326%\n"
     ]
    }
   ],
   "source": [
    "print('The Maximum Accuracy That can be obtained from this model is:',\n",
    "      '{:.2f}%'.format(max(accu_stratified)*100))\n",
    "print('\\nThe Minimum Accuracy:',\n",
    "      '{:.2f}%'.format(min(accu_stratified)*100))\n",
    "print('\\nThe Overall Accuracy:',\n",
    "      '{:.2f}%'.format(mean(accu_stratified)*100))\n",
    "print('\\nThe Standard Deviation is:', \n",
    "      '{:.4f}%'.format(stdev(accu_stratified)*100))"
   ]
  },
  {
   "cell_type": "markdown",
   "id": "4601125c",
   "metadata": {
    "ExecuteTime": {
     "end_time": "2022-05-05T14:38:37.335928Z",
     "start_time": "2022-05-05T14:38:37.322963Z"
    }
   },
   "source": [
    "### SVM with Standard Scaler"
   ]
  },
  {
   "cell_type": "code",
   "execution_count": 16,
   "id": "6381cbe7",
   "metadata": {
    "ExecuteTime": {
     "end_time": "2022-06-03T05:44:21.383739Z",
     "start_time": "2022-06-03T05:44:21.366785Z"
    },
    "scrolled": true
   },
   "outputs": [
    {
     "data": {
      "text/html": [
       "<div>\n",
       "<style scoped>\n",
       "    .dataframe tbody tr th:only-of-type {\n",
       "        vertical-align: middle;\n",
       "    }\n",
       "\n",
       "    .dataframe tbody tr th {\n",
       "        vertical-align: top;\n",
       "    }\n",
       "\n",
       "    .dataframe thead th {\n",
       "        text-align: right;\n",
       "    }\n",
       "</style>\n",
       "<table border=\"1\" class=\"dataframe\">\n",
       "  <thead>\n",
       "    <tr style=\"text-align: right;\">\n",
       "      <th></th>\n",
       "      <th>area</th>\n",
       "      <th>perimeter</th>\n",
       "      <th>eccentricity</th>\n",
       "      <th>mean_intensity</th>\n",
       "      <th>roundness_circularity</th>\n",
       "      <th>class</th>\n",
       "      <th>class_label</th>\n",
       "    </tr>\n",
       "  </thead>\n",
       "  <tbody>\n",
       "    <tr>\n",
       "      <th>0</th>\n",
       "      <td>4923</td>\n",
       "      <td>278.208153</td>\n",
       "      <td>0.836405</td>\n",
       "      <td>130.994516</td>\n",
       "      <td>0.799282</td>\n",
       "      <td>Normal</td>\n",
       "      <td>0</td>\n",
       "    </tr>\n",
       "    <tr>\n",
       "      <th>1</th>\n",
       "      <td>4810</td>\n",
       "      <td>290.764502</td>\n",
       "      <td>0.641405</td>\n",
       "      <td>137.652807</td>\n",
       "      <td>0.714944</td>\n",
       "      <td>Normal</td>\n",
       "      <td>0</td>\n",
       "    </tr>\n",
       "    <tr>\n",
       "      <th>2</th>\n",
       "      <td>4276</td>\n",
       "      <td>244.793939</td>\n",
       "      <td>0.598323</td>\n",
       "      <td>140.647568</td>\n",
       "      <td>0.896698</td>\n",
       "      <td>Normal</td>\n",
       "      <td>0</td>\n",
       "    </tr>\n",
       "    <tr>\n",
       "      <th>3</th>\n",
       "      <td>7207</td>\n",
       "      <td>323.220346</td>\n",
       "      <td>0.573305</td>\n",
       "      <td>181.693492</td>\n",
       "      <td>0.866896</td>\n",
       "      <td>Normal</td>\n",
       "      <td>0</td>\n",
       "    </tr>\n",
       "    <tr>\n",
       "      <th>4</th>\n",
       "      <td>6457</td>\n",
       "      <td>371.019336</td>\n",
       "      <td>0.410081</td>\n",
       "      <td>137.248877</td>\n",
       "      <td>0.589451</td>\n",
       "      <td>Normal</td>\n",
       "      <td>0</td>\n",
       "    </tr>\n",
       "  </tbody>\n",
       "</table>\n",
       "</div>"
      ],
      "text/plain": [
       "   area   perimeter  eccentricity  mean_intensity  roundness_circularity  \\\n",
       "0  4923  278.208153      0.836405      130.994516               0.799282   \n",
       "1  4810  290.764502      0.641405      137.652807               0.714944   \n",
       "2  4276  244.793939      0.598323      140.647568               0.896698   \n",
       "3  7207  323.220346      0.573305      181.693492               0.866896   \n",
       "4  6457  371.019336      0.410081      137.248877               0.589451   \n",
       "\n",
       "    class  class_label  \n",
       "0  Normal            0  \n",
       "1  Normal            0  \n",
       "2  Normal            0  \n",
       "3  Normal            0  \n",
       "4  Normal            0  "
      ]
     },
     "execution_count": 16,
     "metadata": {},
     "output_type": "execute_result"
    }
   ],
   "source": [
    "## Standard Scaler setup\n",
    "\n",
    "from sklearn.preprocessing import StandardScaler\n",
    "\n",
    "# Copying original dataframe\n",
    "data_ready = data.copy()\n",
    "\n",
    "#scaler = StandardScaler()\n",
    "#feature_names = ['area','perimeter','eccentricity','mean_intensity','roundness_circularity']\n",
    "#data_ready[feature_names] = scaler.fit_transform(data[feature_names])\n",
    "\n",
    "data_ready.head()"
   ]
  },
  {
   "cell_type": "code",
   "execution_count": 17,
   "id": "2d61f243",
   "metadata": {
    "ExecuteTime": {
     "end_time": "2022-06-03T05:44:22.065986Z",
     "start_time": "2022-06-03T05:44:22.048977Z"
    }
   },
   "outputs": [],
   "source": [
    "from sklearn.svm import SVC\n",
    "\n",
    "# create model\n",
    "model = SVC()"
   ]
  },
  {
   "cell_type": "code",
   "execution_count": 18,
   "id": "831a4616",
   "metadata": {
    "ExecuteTime": {
     "end_time": "2022-06-03T05:44:23.060512Z",
     "start_time": "2022-06-03T05:44:23.048545Z"
    }
   },
   "outputs": [],
   "source": [
    "def train_model_SC(train, test, fold_no):\n",
    "    X = ['area','perimeter','eccentricity','mean_intensity','roundness_circularity']\n",
    "    y = ['class_label']\n",
    "    X_train = train[X]\n",
    "    y_train = train[y]   \n",
    "    X_test = test[X]\n",
    "    y_test = test[y]\n",
    "    \n",
    "    scaler = StandardScaler().fit(X_train)\n",
    "    \n",
    "    train_sc = scaler.transform(X_train)\n",
    "    test_sc = scaler.transform(X_test)\n",
    "    \n",
    "    model.fit(train_sc,y_train.values.ravel())\n",
    "    predictions = model.predict(test_sc)\n",
    "    global balanced_accuracy\n",
    "    balanced_accuracy = balanced_accuracy_score(y_test,predictions)\n",
    "    #accu_stratified.append(balanced_accuracy)"
   ]
  },
  {
   "cell_type": "code",
   "execution_count": 19,
   "id": "30ac12cd",
   "metadata": {
    "ExecuteTime": {
     "end_time": "2022-06-03T05:44:24.378713Z",
     "start_time": "2022-06-03T05:44:23.632750Z"
    },
    "scrolled": true
   },
   "outputs": [
    {
     "name": "stdout",
     "output_type": "stream",
     "text": [
      "Fold 1 Balanced Accuracy: 0.9433\n",
      "Fold 2 Balanced Accuracy: 0.9581\n",
      "Fold 3 Balanced Accuracy: 0.9460\n",
      "Fold 4 Balanced Accuracy: 0.9621\n",
      "Fold 5 Balanced Accuracy: 0.9534\n",
      "Fold 6 Balanced Accuracy: 0.9851\n",
      "Fold 7 Balanced Accuracy: 0.9870\n",
      "Fold 8 Balanced Accuracy: 0.9565\n",
      "Fold 9 Balanced Accuracy: 0.9739\n",
      "Fold 10 Balanced Accuracy: 0.9826\n"
     ]
    }
   ],
   "source": [
    "fold_no = 1\n",
    "accu_stratified = []\n",
    "\n",
    "for train_index, test_index in skf.split(data_ready, target):\n",
    "    train = data_ready.loc[train_index,:]\n",
    "    test = data_ready.loc[test_index,:]\n",
    "    train_model_SC(train,test,fold_no)\n",
    "    print('Fold',str(fold_no),'Balanced Accuracy:','{:.4f}'.format(balanced_accuracy))\n",
    "    accu_stratified.append(balanced_accuracy)\n",
    "    fold_no += 1"
   ]
  },
  {
   "cell_type": "code",
   "execution_count": 20,
   "id": "9965e710",
   "metadata": {
    "ExecuteTime": {
     "end_time": "2022-06-03T05:44:24.822960Z",
     "start_time": "2022-06-03T05:44:24.808997Z"
    },
    "scrolled": true
   },
   "outputs": [
    {
     "name": "stdout",
     "output_type": "stream",
     "text": [
      "The Maximum Accuracy That can be obtained from this model is: 98.70%\n",
      "\n",
      "The Minimum Accuracy: 94.33%\n",
      "\n",
      "The Overall Accuracy: 96.48%\n",
      "\n",
      "The Standard Deviation is: 1.6231%\n"
     ]
    }
   ],
   "source": [
    "print('The Maximum Accuracy That can be obtained from this model is:',\n",
    "      '{:.2f}%'.format(max(accu_stratified)*100))\n",
    "print('\\nThe Minimum Accuracy:',\n",
    "      '{:.2f}%'.format(min(accu_stratified)*100))\n",
    "print('\\nThe Overall Accuracy:',\n",
    "      '{:.2f}%'.format(mean(accu_stratified)*100))\n",
    "print('\\nThe Standard Deviation is:', \n",
    "      '{:.4f}%'.format(stdev(accu_stratified)*100))"
   ]
  },
  {
   "cell_type": "markdown",
   "id": "30d08030",
   "metadata": {
    "ExecuteTime": {
     "end_time": "2022-05-05T13:41:15.200358Z",
     "start_time": "2022-05-05T13:41:15.193377Z"
    }
   },
   "source": [
    "### Logistic Regression with Standard Scaler"
   ]
  },
  {
   "cell_type": "code",
   "execution_count": 21,
   "id": "0e61e970",
   "metadata": {
    "ExecuteTime": {
     "end_time": "2022-06-03T05:44:26.241999Z",
     "start_time": "2022-06-03T05:44:26.237673Z"
    },
    "scrolled": true
   },
   "outputs": [],
   "source": [
    "from sklearn.linear_model import LogisticRegression\n",
    "\n",
    "model = LogisticRegression(solver='lbfgs', max_iter=500)"
   ]
  },
  {
   "cell_type": "code",
   "execution_count": 22,
   "id": "745c4cd9",
   "metadata": {
    "ExecuteTime": {
     "end_time": "2022-06-03T05:44:26.998426Z",
     "start_time": "2022-06-03T05:44:26.769674Z"
    }
   },
   "outputs": [
    {
     "name": "stdout",
     "output_type": "stream",
     "text": [
      "Fold 1 Balanced Accuracy: 0.9390\n",
      "Fold 2 Balanced Accuracy: 0.9100\n",
      "Fold 3 Balanced Accuracy: 0.9038\n",
      "Fold 4 Balanced Accuracy: 0.9206\n",
      "Fold 5 Balanced Accuracy: 0.9268\n",
      "Fold 6 Balanced Accuracy: 0.9585\n",
      "Fold 7 Balanced Accuracy: 0.9355\n",
      "Fold 8 Balanced Accuracy: 0.9280\n",
      "Fold 9 Balanced Accuracy: 0.9424\n",
      "Fold 10 Balanced Accuracy: 0.9424\n"
     ]
    }
   ],
   "source": [
    "fold_no = 1\n",
    "accu_stratified = []\n",
    "\n",
    "for train_index, test_index in skf.split(data_ready, target):\n",
    "    train = data_ready.loc[train_index,:]\n",
    "    test = data_ready.loc[test_index,:]\n",
    "    train_model_SC(train,test,fold_no)\n",
    "    print('Fold',str(fold_no),'Balanced Accuracy:','{:.4f}'.format(balanced_accuracy))\n",
    "    accu_stratified.append(balanced_accuracy)\n",
    "    fold_no += 1"
   ]
  },
  {
   "cell_type": "code",
   "execution_count": 23,
   "id": "7d7c721d",
   "metadata": {
    "ExecuteTime": {
     "end_time": "2022-06-03T05:44:27.975546Z",
     "start_time": "2022-06-03T05:44:27.957309Z"
    }
   },
   "outputs": [
    {
     "name": "stdout",
     "output_type": "stream",
     "text": [
      "The Maximum Accuracy That can be obtained from this model is: 95.85%\n",
      "\n",
      "The Minimum Accuracy: 90.38%\n",
      "\n",
      "The Overall Accuracy: 93.07%\n",
      "\n",
      "The Standard Deviation is: 1.6370%\n"
     ]
    }
   ],
   "source": [
    "print('The Maximum Accuracy That can be obtained from this model is:',\n",
    "      '{:.2f}%'.format(max(accu_stratified)*100))\n",
    "print('\\nThe Minimum Accuracy:',\n",
    "      '{:.2f}%'.format(min(accu_stratified)*100))\n",
    "print('\\nThe Overall Accuracy:',\n",
    "      '{:.2f}%'.format(mean(accu_stratified)*100))\n",
    "print('\\nThe Standard Deviation is:', \n",
    "      '{:.4f}%'.format(stdev(accu_stratified)*100))"
   ]
  },
  {
   "cell_type": "markdown",
   "id": "14fefdc5",
   "metadata": {
    "ExecuteTime": {
     "end_time": "2022-05-05T07:44:37.012022Z",
     "start_time": "2022-05-05T07:44:36.996065Z"
    }
   },
   "source": [
    "## Normal vs Abnormal Shape"
   ]
  },
  {
   "cell_type": "code",
   "execution_count": 24,
   "id": "442e0ea9",
   "metadata": {
    "ExecuteTime": {
     "end_time": "2022-06-03T05:44:35.081415Z",
     "start_time": "2022-06-03T05:44:35.052093Z"
    }
   },
   "outputs": [],
   "source": [
    "data = pd.read_csv(\"New NormalVSAbnormalShape.csv\")"
   ]
  },
  {
   "cell_type": "code",
   "execution_count": 25,
   "id": "84a3c7cd",
   "metadata": {
    "ExecuteTime": {
     "end_time": "2022-06-03T05:44:35.717084Z",
     "start_time": "2022-06-03T05:44:35.696042Z"
    },
    "scrolled": true
   },
   "outputs": [
    {
     "data": {
      "text/plain": [
       "Abnormal_Shape    2762\n",
       "Normal            1152\n",
       "Name: class, dtype: int64"
      ]
     },
     "execution_count": 25,
     "metadata": {},
     "output_type": "execute_result"
    }
   ],
   "source": [
    "data['class'].value_counts()"
   ]
  },
  {
   "cell_type": "code",
   "execution_count": 26,
   "id": "91ca4f13",
   "metadata": {
    "ExecuteTime": {
     "end_time": "2022-06-03T05:44:36.415486Z",
     "start_time": "2022-06-03T05:44:36.401029Z"
    }
   },
   "outputs": [
    {
     "name": "stdout",
     "output_type": "stream",
     "text": [
      "Class Ratio: 0.71\n"
     ]
    }
   ],
   "source": [
    "class_ratio = sum(data['class_label'])/len(data['class_label'])\n",
    "print('Class Ratio:','{:.2f}'.format(class_ratio))"
   ]
  },
  {
   "cell_type": "markdown",
   "id": "3b4d5a05",
   "metadata": {},
   "source": [
    "### Stratified KFold"
   ]
  },
  {
   "cell_type": "code",
   "execution_count": 27,
   "id": "66aaeaee",
   "metadata": {
    "ExecuteTime": {
     "end_time": "2022-06-03T05:45:14.163159Z",
     "start_time": "2022-06-03T05:45:14.158719Z"
    }
   },
   "outputs": [],
   "source": [
    "# Import Required Modules.\n",
    "from statistics import mean, stdev\n",
    "from sklearn import preprocessing\n",
    "from sklearn.model_selection import StratifiedKFold\n",
    "\n",
    "skf = StratifiedKFold(n_splits=10, shuffle=True, random_state=30)"
   ]
  },
  {
   "cell_type": "code",
   "execution_count": 28,
   "id": "a9e7c76f",
   "metadata": {
    "ExecuteTime": {
     "end_time": "2022-06-03T05:45:15.003381Z",
     "start_time": "2022-06-03T05:45:14.988886Z"
    }
   },
   "outputs": [],
   "source": [
    "target = data.loc[:,'class_label']"
   ]
  },
  {
   "cell_type": "code",
   "execution_count": 29,
   "id": "1135dd14",
   "metadata": {
    "ExecuteTime": {
     "end_time": "2022-06-03T05:45:17.142477Z",
     "start_time": "2022-06-03T05:45:17.111901Z"
    }
   },
   "outputs": [
    {
     "name": "stdout",
     "output_type": "stream",
     "text": [
      "Fold 1 Class Ratio: 0.70\n",
      "Fold 2 Class Ratio: 0.70\n",
      "Fold 3 Class Ratio: 0.71\n",
      "Fold 4 Class Ratio: 0.71\n",
      "Fold 5 Class Ratio: 0.71\n",
      "Fold 6 Class Ratio: 0.71\n",
      "Fold 7 Class Ratio: 0.71\n",
      "Fold 8 Class Ratio: 0.71\n",
      "Fold 9 Class Ratio: 0.71\n",
      "Fold 10 Class Ratio: 0.71\n"
     ]
    }
   ],
   "source": [
    "fold_no = 1\n",
    "for train_index, test_index in skf.split(data, target):\n",
    "    train = data.loc[train_index, :]\n",
    "    test = data.loc[test_index, :]\n",
    "    class_ratio = sum(test['class_label'])/len(test['class_label'])\n",
    "    print('Fold', str(fold_no), 'Class Ratio:','{:.2f}'.format(class_ratio))\n",
    "    \n",
    "    fold_no += 1"
   ]
  },
  {
   "cell_type": "markdown",
   "id": "b6a10af3",
   "metadata": {
    "ExecuteTime": {
     "end_time": "2022-05-05T13:40:22.694119Z",
     "start_time": "2022-05-05T13:40:22.688101Z"
    }
   },
   "source": [
    "### Decision Tree"
   ]
  },
  {
   "cell_type": "markdown",
   "id": "28097032",
   "metadata": {
    "ExecuteTime": {
     "end_time": "2022-05-05T14:12:27.473829Z",
     "start_time": "2022-05-05T14:12:27.463819Z"
    }
   },
   "source": [
    "<b>Balanced Accuracy</b>"
   ]
  },
  {
   "cell_type": "code",
   "execution_count": 30,
   "id": "c4e6fad5",
   "metadata": {
    "ExecuteTime": {
     "end_time": "2022-06-03T05:45:19.422354Z",
     "start_time": "2022-06-03T05:45:19.406982Z"
    },
    "scrolled": true
   },
   "outputs": [],
   "source": [
    "from sklearn.tree import DecisionTreeClassifier\n",
    "from sklearn.metrics import balanced_accuracy_score\n",
    "\n",
    "# create model\n",
    "model = DecisionTreeClassifier() "
   ]
  },
  {
   "cell_type": "code",
   "execution_count": 31,
   "id": "587e34c9",
   "metadata": {
    "ExecuteTime": {
     "end_time": "2022-06-03T05:45:19.950814Z",
     "start_time": "2022-06-03T05:45:19.933751Z"
    }
   },
   "outputs": [],
   "source": [
    "def train_modelDT(train, test, fold_no):\n",
    "    X = ['area','perimeter','eccentricity','mean_intensity','roundness_circularity']\n",
    "    y = ['class_label']\n",
    "    X_train = train[X]\n",
    "    y_train = train[y]\n",
    "    X_test = test[X]\n",
    "    y_test = test[y]\n",
    "    model.fit(X_train,y_train)\n",
    "    predictions = model.predict(X_test)\n",
    "    balanced_accuracy = balanced_accuracy_score(y_test,predictions)\n",
    "    print('Fold',str(fold_no),'Balanced Accuracy:',\n",
    "          '{:.4f}'.format(balanced_accuracy))\n",
    "    accu_stratified.append(balanced_accuracy)    "
   ]
  },
  {
   "cell_type": "code",
   "execution_count": 32,
   "id": "7e55b907",
   "metadata": {
    "ExecuteTime": {
     "end_time": "2022-06-03T05:45:24.517330Z",
     "start_time": "2022-06-03T05:45:24.329317Z"
    }
   },
   "outputs": [
    {
     "name": "stdout",
     "output_type": "stream",
     "text": [
      "Fold 1 Balanced Accuracy: 0.9834\n",
      "Fold 2 Balanced Accuracy: 0.9583\n",
      "Fold 3 Balanced Accuracy: 0.9562\n",
      "Fold 4 Balanced Accuracy: 0.9642\n",
      "Fold 5 Balanced Accuracy: 0.9514\n",
      "Fold 6 Balanced Accuracy: 0.9743\n",
      "Fold 7 Balanced Accuracy: 0.9833\n",
      "Fold 8 Balanced Accuracy: 0.9594\n",
      "Fold 9 Balanced Accuracy: 0.9754\n",
      "Fold 10 Balanced Accuracy: 0.9736\n"
     ]
    }
   ],
   "source": [
    "fold_no = 1\n",
    "accu_stratified = []\n",
    "\n",
    "for train_index, test_index in skf.split(data, target):\n",
    "    train = data.loc[train_index,:]\n",
    "    test = data.loc[test_index,:]\n",
    "    train_modelDT(train,test,fold_no)\n",
    "    fold_no += 1"
   ]
  },
  {
   "cell_type": "code",
   "execution_count": 33,
   "id": "70961e80",
   "metadata": {
    "ExecuteTime": {
     "end_time": "2022-06-03T05:45:26.421676Z",
     "start_time": "2022-06-03T05:45:26.406351Z"
    }
   },
   "outputs": [
    {
     "name": "stdout",
     "output_type": "stream",
     "text": [
      "The Maximum Accuracy That can be obtained from this model is: 98.34%\n",
      "\n",
      "The Minimum Accuracy: 95.14%\n",
      "\n",
      "The Overall Accuracy: 96.79%\n",
      "\n",
      "The Standard Deviation is: 1.1520%\n"
     ]
    }
   ],
   "source": [
    "print('The Maximum Accuracy That can be obtained from this model is:',\n",
    "      '{:.2f}%'.format(max(accu_stratified)*100))\n",
    "print('\\nThe Minimum Accuracy:',\n",
    "      '{:.2f}%'.format(min(accu_stratified)*100))\n",
    "print('\\nThe Overall Accuracy:',\n",
    "      '{:.2f}%'.format(mean(accu_stratified)*100))\n",
    "print('\\nThe Standard Deviation is:', \n",
    "      '{:.4f}%'.format(stdev(accu_stratified)*100))"
   ]
  },
  {
   "cell_type": "markdown",
   "id": "62f5db38",
   "metadata": {
    "ExecuteTime": {
     "end_time": "2022-05-05T13:41:15.200358Z",
     "start_time": "2022-05-05T13:41:15.193377Z"
    }
   },
   "source": [
    "### Logistic Regression"
   ]
  },
  {
   "cell_type": "code",
   "execution_count": 34,
   "id": "73b38a1e",
   "metadata": {
    "ExecuteTime": {
     "end_time": "2022-06-03T05:45:28.363578Z",
     "start_time": "2022-06-03T05:45:28.352224Z"
    },
    "scrolled": true
   },
   "outputs": [],
   "source": [
    "from sklearn.linear_model import LogisticRegression\n",
    "\n",
    "model = LogisticRegression(solver='lbfgs', max_iter=500)"
   ]
  },
  {
   "cell_type": "code",
   "execution_count": 35,
   "id": "b6be30bb",
   "metadata": {
    "ExecuteTime": {
     "end_time": "2022-06-03T05:45:28.877021Z",
     "start_time": "2022-06-03T05:45:28.857499Z"
    }
   },
   "outputs": [],
   "source": [
    "def train_model(train, test, fold_no):\n",
    "    X = ['area','perimeter','eccentricity','mean_intensity','roundness_circularity']\n",
    "    y = ['class_label']\n",
    "    X_train = train[X]\n",
    "    y_train = train[y]\n",
    "    X_test = test[X]\n",
    "    y_test = test[y]\n",
    "    model.fit(X_train,y_train.values.ravel())\n",
    "    predictions = model.predict(X_test)\n",
    "    balanced_accuracy = balanced_accuracy_score(y_test,predictions)\n",
    "    print('Fold',str(fold_no),'Balanced Accuracy:',\n",
    "          '{:.4f}'.format(balanced_accuracy))\n",
    "    accu_stratified.append(balanced_accuracy)"
   ]
  },
  {
   "cell_type": "code",
   "execution_count": 36,
   "id": "00792b5c",
   "metadata": {
    "ExecuteTime": {
     "end_time": "2022-06-03T05:45:30.223599Z",
     "start_time": "2022-06-03T05:45:29.453653Z"
    }
   },
   "outputs": [
    {
     "name": "stdout",
     "output_type": "stream",
     "text": [
      "Fold 1 Balanced Accuracy: 0.9447\n",
      "Fold 2 Balanced Accuracy: 0.8997\n",
      "Fold 3 Balanced Accuracy: 0.9025\n",
      "Fold 4 Balanced Accuracy: 0.9015\n",
      "Fold 5 Balanced Accuracy: 0.9257\n",
      "Fold 6 Balanced Accuracy: 0.9413\n",
      "Fold 7 Balanced Accuracy: 0.9388\n",
      "Fold 8 Balanced Accuracy: 0.9370\n",
      "Fold 9 Balanced Accuracy: 0.9413\n",
      "Fold 10 Balanced Accuracy: 0.9525\n"
     ]
    }
   ],
   "source": [
    "fold_no = 1\n",
    "accu_stratified = []\n",
    "\n",
    "for train_index, test_index in skf.split(data, target):\n",
    "    train = data.loc[train_index,:]\n",
    "    test = data.loc[test_index,:]\n",
    "    train_model(train,test,fold_no)\n",
    "    fold_no += 1"
   ]
  },
  {
   "cell_type": "code",
   "execution_count": 37,
   "id": "5c16e44f",
   "metadata": {
    "ExecuteTime": {
     "end_time": "2022-06-03T05:45:30.643563Z",
     "start_time": "2022-06-03T05:45:30.624606Z"
    }
   },
   "outputs": [
    {
     "name": "stdout",
     "output_type": "stream",
     "text": [
      "The Maximum Accuracy That can be obtained from this model is: 95.25%\n",
      "\n",
      "The Minimum Accuracy: 89.97%\n",
      "\n",
      "The Overall Accuracy: 92.85%\n",
      "\n",
      "The Standard Deviation is: 1.9952%\n"
     ]
    }
   ],
   "source": [
    "print('The Maximum Accuracy That can be obtained from this model is:',\n",
    "      '{:.2f}%'.format(max(accu_stratified)*100))\n",
    "print('\\nThe Minimum Accuracy:',\n",
    "      '{:.2f}%'.format(min(accu_stratified)*100))\n",
    "print('\\nThe Overall Accuracy:',\n",
    "      '{:.2f}%'.format(mean(accu_stratified)*100))\n",
    "print('\\nThe Standard Deviation is:', \n",
    "      '{:.4f}%'.format(stdev(accu_stratified)*100))"
   ]
  },
  {
   "cell_type": "markdown",
   "id": "abbabe2a",
   "metadata": {
    "ExecuteTime": {
     "end_time": "2022-05-05T14:38:37.335928Z",
     "start_time": "2022-05-05T14:38:37.322963Z"
    }
   },
   "source": [
    "### SVM with Standard Scaler"
   ]
  },
  {
   "cell_type": "code",
   "execution_count": 38,
   "id": "ba61887d",
   "metadata": {
    "ExecuteTime": {
     "end_time": "2022-06-03T05:45:32.097781Z",
     "start_time": "2022-06-03T05:45:32.083697Z"
    },
    "scrolled": true
   },
   "outputs": [
    {
     "data": {
      "text/html": [
       "<div>\n",
       "<style scoped>\n",
       "    .dataframe tbody tr th:only-of-type {\n",
       "        vertical-align: middle;\n",
       "    }\n",
       "\n",
       "    .dataframe tbody tr th {\n",
       "        vertical-align: top;\n",
       "    }\n",
       "\n",
       "    .dataframe thead th {\n",
       "        text-align: right;\n",
       "    }\n",
       "</style>\n",
       "<table border=\"1\" class=\"dataframe\">\n",
       "  <thead>\n",
       "    <tr style=\"text-align: right;\">\n",
       "      <th></th>\n",
       "      <th>area</th>\n",
       "      <th>perimeter</th>\n",
       "      <th>eccentricity</th>\n",
       "      <th>mean_intensity</th>\n",
       "      <th>roundness_circularity</th>\n",
       "      <th>class</th>\n",
       "      <th>class_label</th>\n",
       "    </tr>\n",
       "  </thead>\n",
       "  <tbody>\n",
       "    <tr>\n",
       "      <th>0</th>\n",
       "      <td>4923</td>\n",
       "      <td>278.208153</td>\n",
       "      <td>0.836405</td>\n",
       "      <td>130.994516</td>\n",
       "      <td>0.799282</td>\n",
       "      <td>Normal</td>\n",
       "      <td>0</td>\n",
       "    </tr>\n",
       "    <tr>\n",
       "      <th>1</th>\n",
       "      <td>4810</td>\n",
       "      <td>290.764502</td>\n",
       "      <td>0.641405</td>\n",
       "      <td>137.652807</td>\n",
       "      <td>0.714944</td>\n",
       "      <td>Normal</td>\n",
       "      <td>0</td>\n",
       "    </tr>\n",
       "    <tr>\n",
       "      <th>2</th>\n",
       "      <td>4276</td>\n",
       "      <td>244.793939</td>\n",
       "      <td>0.598323</td>\n",
       "      <td>140.647568</td>\n",
       "      <td>0.896698</td>\n",
       "      <td>Normal</td>\n",
       "      <td>0</td>\n",
       "    </tr>\n",
       "    <tr>\n",
       "      <th>3</th>\n",
       "      <td>7207</td>\n",
       "      <td>323.220346</td>\n",
       "      <td>0.573305</td>\n",
       "      <td>181.693492</td>\n",
       "      <td>0.866896</td>\n",
       "      <td>Normal</td>\n",
       "      <td>0</td>\n",
       "    </tr>\n",
       "    <tr>\n",
       "      <th>4</th>\n",
       "      <td>6457</td>\n",
       "      <td>371.019336</td>\n",
       "      <td>0.410081</td>\n",
       "      <td>137.248877</td>\n",
       "      <td>0.589451</td>\n",
       "      <td>Normal</td>\n",
       "      <td>0</td>\n",
       "    </tr>\n",
       "  </tbody>\n",
       "</table>\n",
       "</div>"
      ],
      "text/plain": [
       "   area   perimeter  eccentricity  mean_intensity  roundness_circularity  \\\n",
       "0  4923  278.208153      0.836405      130.994516               0.799282   \n",
       "1  4810  290.764502      0.641405      137.652807               0.714944   \n",
       "2  4276  244.793939      0.598323      140.647568               0.896698   \n",
       "3  7207  323.220346      0.573305      181.693492               0.866896   \n",
       "4  6457  371.019336      0.410081      137.248877               0.589451   \n",
       "\n",
       "    class  class_label  \n",
       "0  Normal            0  \n",
       "1  Normal            0  \n",
       "2  Normal            0  \n",
       "3  Normal            0  \n",
       "4  Normal            0  "
      ]
     },
     "execution_count": 38,
     "metadata": {},
     "output_type": "execute_result"
    }
   ],
   "source": [
    "## Standard Scaler setup\n",
    "\n",
    "from sklearn.preprocessing import StandardScaler\n",
    "\n",
    "# Copying original dataframe\n",
    "data_ready = data.copy()\n",
    "\n",
    "#scaler = StandardScaler()\n",
    "#feature_names = ['area','perimeter','eccentricity','mean_intensity','roundness_circularity']\n",
    "#data_ready[feature_names] = scaler.fit_transform(data[feature_names])\n",
    "\n",
    "data_ready.head()"
   ]
  },
  {
   "cell_type": "code",
   "execution_count": 39,
   "id": "e871990a",
   "metadata": {
    "ExecuteTime": {
     "end_time": "2022-06-03T05:45:32.914461Z",
     "start_time": "2022-06-03T05:45:32.903931Z"
    }
   },
   "outputs": [],
   "source": [
    "from sklearn.svm import SVC\n",
    "\n",
    "# create model\n",
    "model = SVC()"
   ]
  },
  {
   "cell_type": "code",
   "execution_count": 40,
   "id": "c34fcd27",
   "metadata": {
    "ExecuteTime": {
     "end_time": "2022-06-03T05:45:33.488353Z",
     "start_time": "2022-06-03T05:45:33.470277Z"
    }
   },
   "outputs": [],
   "source": [
    "def train_model_SC(train, test, fold_no):\n",
    "    X = ['area','perimeter','eccentricity','mean_intensity','roundness_circularity']\n",
    "    y = ['class_label']\n",
    "    X_train = train[X]\n",
    "    y_train = train[y]   \n",
    "    X_test = test[X]\n",
    "    y_test = test[y]\n",
    "    \n",
    "    scaler = StandardScaler().fit(X_train)\n",
    "    \n",
    "    train_sc = scaler.transform(X_train)\n",
    "    test_sc = scaler.transform(X_test)\n",
    "    \n",
    "    model.fit(train_sc,y_train.values.ravel())\n",
    "    predictions = model.predict(test_sc)\n",
    "    global balanced_accuracy\n",
    "    balanced_accuracy = balanced_accuracy_score(y_test,predictions)\n",
    "    #accu_stratified.append(balanced_accuracy)"
   ]
  },
  {
   "cell_type": "code",
   "execution_count": 41,
   "id": "29a579b7",
   "metadata": {
    "ExecuteTime": {
     "end_time": "2022-06-03T05:45:35.422356Z",
     "start_time": "2022-06-03T05:45:34.594442Z"
    },
    "scrolled": true
   },
   "outputs": [
    {
     "name": "stdout",
     "output_type": "stream",
     "text": [
      "Fold 1 Balanced Accuracy: 0.9655\n",
      "Fold 2 Balanced Accuracy: 0.9551\n",
      "Fold 3 Balanced Accuracy: 0.9522\n",
      "Fold 4 Balanced Accuracy: 0.9703\n",
      "Fold 5 Balanced Accuracy: 0.9721\n",
      "Fold 6 Balanced Accuracy: 0.9877\n",
      "Fold 7 Balanced Accuracy: 0.9851\n",
      "Fold 8 Balanced Accuracy: 0.9634\n",
      "Fold 9 Balanced Accuracy: 0.9746\n",
      "Fold 10 Balanced Accuracy: 0.9746\n"
     ]
    }
   ],
   "source": [
    "fold_no = 1\n",
    "accu_stratified = []\n",
    "\n",
    "for train_index, test_index in skf.split(data_ready, target):\n",
    "    train = data_ready.loc[train_index,:]\n",
    "    test = data_ready.loc[test_index,:]\n",
    "    train_model_SC(train,test,fold_no)\n",
    "    print('Fold',str(fold_no),'Balanced Accuracy:','{:.4f}'.format(balanced_accuracy))\n",
    "    accu_stratified.append(balanced_accuracy)\n",
    "    fold_no += 1"
   ]
  },
  {
   "cell_type": "code",
   "execution_count": 42,
   "id": "8fc97a2b",
   "metadata": {
    "ExecuteTime": {
     "end_time": "2022-06-03T05:45:41.795373Z",
     "start_time": "2022-06-03T05:45:41.788393Z"
    },
    "scrolled": true
   },
   "outputs": [
    {
     "name": "stdout",
     "output_type": "stream",
     "text": [
      "The Maximum Accuracy That can be obtained from this model is: 98.77%\n",
      "\n",
      "The Minimum Accuracy: 95.22%\n",
      "\n",
      "The Overall Accuracy: 97.01%\n",
      "\n",
      "The Standard Deviation is: 1.1515%\n"
     ]
    }
   ],
   "source": [
    "print('The Maximum Accuracy That can be obtained from this model is:',\n",
    "      '{:.2f}%'.format(max(accu_stratified)*100))\n",
    "print('\\nThe Minimum Accuracy:',\n",
    "      '{:.2f}%'.format(min(accu_stratified)*100))\n",
    "print('\\nThe Overall Accuracy:',\n",
    "      '{:.2f}%'.format(mean(accu_stratified)*100))\n",
    "print('\\nThe Standard Deviation is:', \n",
    "      '{:.4f}%'.format(stdev(accu_stratified)*100))"
   ]
  },
  {
   "cell_type": "markdown",
   "id": "9442b927",
   "metadata": {
    "ExecuteTime": {
     "end_time": "2022-05-05T13:41:15.200358Z",
     "start_time": "2022-05-05T13:41:15.193377Z"
    }
   },
   "source": [
    "### Logistic Regression with Standard Scaler"
   ]
  },
  {
   "cell_type": "code",
   "execution_count": 43,
   "id": "ba090a04",
   "metadata": {
    "ExecuteTime": {
     "end_time": "2022-06-03T05:45:44.243196Z",
     "start_time": "2022-06-03T05:45:44.237176Z"
    },
    "scrolled": true
   },
   "outputs": [],
   "source": [
    "from sklearn.linear_model import LogisticRegression\n",
    "\n",
    "model = LogisticRegression(solver='lbfgs', max_iter=500)"
   ]
  },
  {
   "cell_type": "code",
   "execution_count": 44,
   "id": "d7b145b0",
   "metadata": {
    "ExecuteTime": {
     "end_time": "2022-06-03T05:45:45.050491Z",
     "start_time": "2022-06-03T05:45:44.811945Z"
    }
   },
   "outputs": [
    {
     "name": "stdout",
     "output_type": "stream",
     "text": [
      "Fold 1 Balanced Accuracy: 0.9447\n",
      "Fold 2 Balanced Accuracy: 0.9109\n",
      "Fold 3 Balanced Accuracy: 0.9138\n",
      "Fold 4 Balanced Accuracy: 0.9301\n",
      "Fold 5 Balanced Accuracy: 0.9337\n",
      "Fold 6 Balanced Accuracy: 0.9703\n",
      "Fold 7 Balanced Accuracy: 0.9388\n",
      "Fold 8 Balanced Accuracy: 0.9388\n",
      "Fold 9 Balanced Accuracy: 0.9500\n",
      "Fold 10 Balanced Accuracy: 0.9457\n"
     ]
    }
   ],
   "source": [
    "fold_no = 1\n",
    "accu_stratified = []\n",
    "\n",
    "for train_index, test_index in skf.split(data_ready, target):\n",
    "    train = data_ready.loc[train_index,:]\n",
    "    test = data_ready.loc[test_index,:]\n",
    "    train_model_SC(train,test,fold_no)\n",
    "    print('Fold',str(fold_no),'Balanced Accuracy:','{:.4f}'.format(balanced_accuracy))\n",
    "    accu_stratified.append(balanced_accuracy)\n",
    "    fold_no += 1"
   ]
  },
  {
   "cell_type": "code",
   "execution_count": 45,
   "id": "8feb2a32",
   "metadata": {
    "ExecuteTime": {
     "end_time": "2022-06-03T05:45:45.919045Z",
     "start_time": "2022-06-03T05:45:45.904739Z"
    }
   },
   "outputs": [
    {
     "name": "stdout",
     "output_type": "stream",
     "text": [
      "The Maximum Accuracy That can be obtained from this model is: 97.03%\n",
      "\n",
      "The Minimum Accuracy: 91.09%\n",
      "\n",
      "The Overall Accuracy: 93.77%\n",
      "\n",
      "The Standard Deviation is: 1.7300%\n"
     ]
    }
   ],
   "source": [
    "print('The Maximum Accuracy That can be obtained from this model is:',\n",
    "      '{:.2f}%'.format(max(accu_stratified)*100))\n",
    "print('\\nThe Minimum Accuracy:',\n",
    "      '{:.2f}%'.format(min(accu_stratified)*100))\n",
    "print('\\nThe Overall Accuracy:',\n",
    "      '{:.2f}%'.format(mean(accu_stratified)*100))\n",
    "print('\\nThe Standard Deviation is:', \n",
    "      '{:.4f}%'.format(stdev(accu_stratified)*100))"
   ]
  },
  {
   "cell_type": "code",
   "execution_count": null,
   "id": "caa617a9",
   "metadata": {},
   "outputs": [],
   "source": []
  }
 ],
 "metadata": {
  "kernelspec": {
   "display_name": "Python 3 (ipykernel)",
   "language": "python",
   "name": "python3"
  },
  "language_info": {
   "codemirror_mode": {
    "name": "ipython",
    "version": 3
   },
   "file_extension": ".py",
   "mimetype": "text/x-python",
   "name": "python",
   "nbconvert_exporter": "python",
   "pygments_lexer": "ipython3",
   "version": "3.8.13"
  },
  "toc": {
   "base_numbering": 1,
   "nav_menu": {},
   "number_sections": true,
   "sideBar": true,
   "skip_h1_title": false,
   "title_cell": "Table of Contents",
   "title_sidebar": "Contents",
   "toc_cell": false,
   "toc_position": {
    "height": "calc(100% - 180px)",
    "left": "10px",
    "top": "150px",
    "width": "304.446px"
   },
   "toc_section_display": true,
   "toc_window_display": true
  },
  "varInspector": {
   "cols": {
    "lenName": 16,
    "lenType": 16,
    "lenVar": 40
   },
   "kernels_config": {
    "python": {
     "delete_cmd_postfix": "",
     "delete_cmd_prefix": "del ",
     "library": "var_list.py",
     "varRefreshCmd": "print(var_dic_list())"
    },
    "r": {
     "delete_cmd_postfix": ") ",
     "delete_cmd_prefix": "rm(",
     "library": "var_list.r",
     "varRefreshCmd": "cat(var_dic_list()) "
    }
   },
   "position": {
    "height": "446.85px",
    "left": "398px",
    "right": "20px",
    "top": "120px",
    "width": "350px"
   },
   "types_to_exclude": [
    "module",
    "function",
    "builtin_function_or_method",
    "instance",
    "_Feature"
   ],
   "window_display": false
  }
 },
 "nbformat": 4,
 "nbformat_minor": 5
}
